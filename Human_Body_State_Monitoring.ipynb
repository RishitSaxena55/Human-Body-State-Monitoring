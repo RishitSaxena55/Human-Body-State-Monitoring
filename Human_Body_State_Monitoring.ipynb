{
  "nbformat": 4,
  "nbformat_minor": 0,
  "metadata": {
    "colab": {
      "provenance": []
    },
    "kernelspec": {
      "name": "python3",
      "display_name": "Python 3"
    },
    "language_info": {
      "name": "python"
    }
  },
  "cells": [
    {
      "cell_type": "markdown",
      "source": [
        "# **Human Body State Monitoring Using Biometric Signals**"
      ],
      "metadata": {
        "id": "ZVkUT8v7oDb2"
      }
    },
    {
      "cell_type": "markdown",
      "source": [
        "# *Imports*"
      ],
      "metadata": {
        "id": "5qBdYNS6n9Tl"
      }
    },
    {
      "cell_type": "code",
      "source": [
        "!pip install torchinfo --quiet"
      ],
      "metadata": {
        "id": "4fxmpPVjZUz7"
      },
      "execution_count": 1,
      "outputs": []
    },
    {
      "cell_type": "code",
      "source": [
        "import random\n",
        "import numpy as np\n",
        "import pandas as pd\n",
        "\n",
        "import torch\n",
        "import torch.nn as nn\n",
        "import torch.nn.functional as F\n",
        "from torchinfo import summary\n",
        "from torch.utils.data import Dataset, DataLoader\n",
        "from torch.nn.utils.rnn import pad_sequence, pack_padded_sequence, pad_packed_sequence\n",
        "from torch.utils.data import random_split\n",
        "import wandb\n",
        "\n",
        "from sklearn.metrics import accuracy_score\n",
        "import gc\n",
        "\n",
        "import glob\n",
        "\n",
        "import zipfile\n",
        "from tqdm.auto import tqdm\n",
        "import os\n",
        "import datetime\n",
        "\n",
        "from sklearn.preprocessing import StandardScaler\n",
        "from torch.cuda.amp import autocast, GradScaler\n",
        "\n",
        "import warnings\n",
        "warnings.filterwarnings('ignore')\n",
        "\n",
        "device = 'cuda' if torch.cuda.is_available() else 'cpu'\n",
        "print(\"Device: \", device)\n",
        "\n"
      ],
      "metadata": {
        "colab": {
          "base_uri": "https://localhost:8080/"
        },
        "id": "nxOwkQCRZOXY",
        "outputId": "5fb9881a-52e8-415f-f290-3c3ae7a35600"
      },
      "execution_count": 2,
      "outputs": [
        {
          "output_type": "stream",
          "name": "stdout",
          "text": [
            "Device:  cuda\n"
          ]
        }
      ]
    },
    {
      "cell_type": "code",
      "execution_count": 3,
      "metadata": {
        "colab": {
          "base_uri": "https://localhost:8080/"
        },
        "id": "Yu-cNDs9VwH6",
        "outputId": "bf836418-4680-49a3-e33a-cb09392b927d"
      },
      "outputs": [
        {
          "output_type": "stream",
          "name": "stdout",
          "text": [
            "Mounted at /content/gdrive\n"
          ]
        }
      ],
      "source": [
        "from google.colab import drive\n",
        "drive.mount('/content/gdrive')"
      ]
    },
    {
      "cell_type": "markdown",
      "source": [
        "# *Data Preprocessing*"
      ],
      "metadata": {
        "id": "odtt60qgoVXf"
      }
    },
    {
      "cell_type": "code",
      "source": [
        "df = pd.read_csv(\"/content/gdrive/MyDrive/WESAD_raw_data.csv\")"
      ],
      "metadata": {
        "id": "dff4eBf-Yq5w"
      },
      "execution_count": 4,
      "outputs": []
    },
    {
      "cell_type": "code",
      "source": [
        "df.head()"
      ],
      "metadata": {
        "colab": {
          "base_uri": "https://localhost:8080/",
          "height": 273
        },
        "id": "zeWFReHsr6tF",
        "outputId": "29b4b23c-ed58-4937-a840-cb0939715fa8"
      },
      "execution_count": 5,
      "outputs": [
        {
          "output_type": "execute_result",
          "data": {
            "text/plain": [
              "       Time     MEAN_RR  MEDIAN_RR       SDRR      RMSSD       SDSD  \\\n",
              "0  2.500754  654.010015  649.40833  49.342563  11.677158  11.676994   \n",
              "1  2.504921  654.063862  649.40833  49.300854  11.611629  11.611626   \n",
              "2  2.509087  654.024936  649.40833  49.326015  11.627159  11.627112   \n",
              "3  2.513254  653.968183  649.40833  49.369481  11.417706  11.417571   \n",
              "4  2.517421  654.048424  649.40833  49.279428  11.230305  11.228757   \n",
              "\n",
              "   SDRR_RMSSD         HR  pNN25  pNN50  ...  KURT_SQUARE   HR_SQRT  \\\n",
              "0    4.225563  92.266721   5.75   0.25  ...     0.217992  9.605557   \n",
              "1    4.245817  92.258202   5.75   0.25  ...     0.212375  9.605113   \n",
              "2    4.242310  92.264235   5.75   0.25  ...     0.216107  9.605427   \n",
              "3    4.323940  92.273203   5.50   0.25  ...     0.222014  9.605894   \n",
              "4    4.388076  92.259766   5.25   0.25  ...     0.214546  9.605195   \n",
              "\n",
              "   MEAN_RR_MEAN_MEAN_REL_RR    SD2_LF     HR_LF     HR_HF    HF_VLF  \\\n",
              "0              1.925085e+09  0.185010  0.246361  0.868076  0.367149   \n",
              "1              1.956097e+08  0.181651  0.242055  0.865946  0.377283   \n",
              "2             -4.897165e+06  0.178633  0.237930  0.865327  0.386985   \n",
              "3             -2.305165e+06  0.175917  0.234067  0.865965  0.396084   \n",
              "4             -2.205377e+06  0.172920  0.230420  0.867653  0.403953   \n",
              "\n",
              "   subject id  condition  SSSQ  \n",
              "0          10   baseline     3  \n",
              "1          10   baseline     3  \n",
              "2          10   baseline     3  \n",
              "3          10   baseline     3  \n",
              "4          10   baseline     3  \n",
              "\n",
              "[5 rows x 66 columns]"
            ],
            "text/html": [
              "\n",
              "  <div id=\"df-46eeae16-0af9-40c3-90e3-c81e373a3901\" class=\"colab-df-container\">\n",
              "    <div>\n",
              "<style scoped>\n",
              "    .dataframe tbody tr th:only-of-type {\n",
              "        vertical-align: middle;\n",
              "    }\n",
              "\n",
              "    .dataframe tbody tr th {\n",
              "        vertical-align: top;\n",
              "    }\n",
              "\n",
              "    .dataframe thead th {\n",
              "        text-align: right;\n",
              "    }\n",
              "</style>\n",
              "<table border=\"1\" class=\"dataframe\">\n",
              "  <thead>\n",
              "    <tr style=\"text-align: right;\">\n",
              "      <th></th>\n",
              "      <th>Time</th>\n",
              "      <th>MEAN_RR</th>\n",
              "      <th>MEDIAN_RR</th>\n",
              "      <th>SDRR</th>\n",
              "      <th>RMSSD</th>\n",
              "      <th>SDSD</th>\n",
              "      <th>SDRR_RMSSD</th>\n",
              "      <th>HR</th>\n",
              "      <th>pNN25</th>\n",
              "      <th>pNN50</th>\n",
              "      <th>...</th>\n",
              "      <th>KURT_SQUARE</th>\n",
              "      <th>HR_SQRT</th>\n",
              "      <th>MEAN_RR_MEAN_MEAN_REL_RR</th>\n",
              "      <th>SD2_LF</th>\n",
              "      <th>HR_LF</th>\n",
              "      <th>HR_HF</th>\n",
              "      <th>HF_VLF</th>\n",
              "      <th>subject id</th>\n",
              "      <th>condition</th>\n",
              "      <th>SSSQ</th>\n",
              "    </tr>\n",
              "  </thead>\n",
              "  <tbody>\n",
              "    <tr>\n",
              "      <th>0</th>\n",
              "      <td>2.500754</td>\n",
              "      <td>654.010015</td>\n",
              "      <td>649.40833</td>\n",
              "      <td>49.342563</td>\n",
              "      <td>11.677158</td>\n",
              "      <td>11.676994</td>\n",
              "      <td>4.225563</td>\n",
              "      <td>92.266721</td>\n",
              "      <td>5.75</td>\n",
              "      <td>0.25</td>\n",
              "      <td>...</td>\n",
              "      <td>0.217992</td>\n",
              "      <td>9.605557</td>\n",
              "      <td>1.925085e+09</td>\n",
              "      <td>0.185010</td>\n",
              "      <td>0.246361</td>\n",
              "      <td>0.868076</td>\n",
              "      <td>0.367149</td>\n",
              "      <td>10</td>\n",
              "      <td>baseline</td>\n",
              "      <td>3</td>\n",
              "    </tr>\n",
              "    <tr>\n",
              "      <th>1</th>\n",
              "      <td>2.504921</td>\n",
              "      <td>654.063862</td>\n",
              "      <td>649.40833</td>\n",
              "      <td>49.300854</td>\n",
              "      <td>11.611629</td>\n",
              "      <td>11.611626</td>\n",
              "      <td>4.245817</td>\n",
              "      <td>92.258202</td>\n",
              "      <td>5.75</td>\n",
              "      <td>0.25</td>\n",
              "      <td>...</td>\n",
              "      <td>0.212375</td>\n",
              "      <td>9.605113</td>\n",
              "      <td>1.956097e+08</td>\n",
              "      <td>0.181651</td>\n",
              "      <td>0.242055</td>\n",
              "      <td>0.865946</td>\n",
              "      <td>0.377283</td>\n",
              "      <td>10</td>\n",
              "      <td>baseline</td>\n",
              "      <td>3</td>\n",
              "    </tr>\n",
              "    <tr>\n",
              "      <th>2</th>\n",
              "      <td>2.509087</td>\n",
              "      <td>654.024936</td>\n",
              "      <td>649.40833</td>\n",
              "      <td>49.326015</td>\n",
              "      <td>11.627159</td>\n",
              "      <td>11.627112</td>\n",
              "      <td>4.242310</td>\n",
              "      <td>92.264235</td>\n",
              "      <td>5.75</td>\n",
              "      <td>0.25</td>\n",
              "      <td>...</td>\n",
              "      <td>0.216107</td>\n",
              "      <td>9.605427</td>\n",
              "      <td>-4.897165e+06</td>\n",
              "      <td>0.178633</td>\n",
              "      <td>0.237930</td>\n",
              "      <td>0.865327</td>\n",
              "      <td>0.386985</td>\n",
              "      <td>10</td>\n",
              "      <td>baseline</td>\n",
              "      <td>3</td>\n",
              "    </tr>\n",
              "    <tr>\n",
              "      <th>3</th>\n",
              "      <td>2.513254</td>\n",
              "      <td>653.968183</td>\n",
              "      <td>649.40833</td>\n",
              "      <td>49.369481</td>\n",
              "      <td>11.417706</td>\n",
              "      <td>11.417571</td>\n",
              "      <td>4.323940</td>\n",
              "      <td>92.273203</td>\n",
              "      <td>5.50</td>\n",
              "      <td>0.25</td>\n",
              "      <td>...</td>\n",
              "      <td>0.222014</td>\n",
              "      <td>9.605894</td>\n",
              "      <td>-2.305165e+06</td>\n",
              "      <td>0.175917</td>\n",
              "      <td>0.234067</td>\n",
              "      <td>0.865965</td>\n",
              "      <td>0.396084</td>\n",
              "      <td>10</td>\n",
              "      <td>baseline</td>\n",
              "      <td>3</td>\n",
              "    </tr>\n",
              "    <tr>\n",
              "      <th>4</th>\n",
              "      <td>2.517421</td>\n",
              "      <td>654.048424</td>\n",
              "      <td>649.40833</td>\n",
              "      <td>49.279428</td>\n",
              "      <td>11.230305</td>\n",
              "      <td>11.228757</td>\n",
              "      <td>4.388076</td>\n",
              "      <td>92.259766</td>\n",
              "      <td>5.25</td>\n",
              "      <td>0.25</td>\n",
              "      <td>...</td>\n",
              "      <td>0.214546</td>\n",
              "      <td>9.605195</td>\n",
              "      <td>-2.205377e+06</td>\n",
              "      <td>0.172920</td>\n",
              "      <td>0.230420</td>\n",
              "      <td>0.867653</td>\n",
              "      <td>0.403953</td>\n",
              "      <td>10</td>\n",
              "      <td>baseline</td>\n",
              "      <td>3</td>\n",
              "    </tr>\n",
              "  </tbody>\n",
              "</table>\n",
              "<p>5 rows × 66 columns</p>\n",
              "</div>\n",
              "    <div class=\"colab-df-buttons\">\n",
              "\n",
              "  <div class=\"colab-df-container\">\n",
              "    <button class=\"colab-df-convert\" onclick=\"convertToInteractive('df-46eeae16-0af9-40c3-90e3-c81e373a3901')\"\n",
              "            title=\"Convert this dataframe to an interactive table.\"\n",
              "            style=\"display:none;\">\n",
              "\n",
              "  <svg xmlns=\"http://www.w3.org/2000/svg\" height=\"24px\" viewBox=\"0 -960 960 960\">\n",
              "    <path d=\"M120-120v-720h720v720H120Zm60-500h600v-160H180v160Zm220 220h160v-160H400v160Zm0 220h160v-160H400v160ZM180-400h160v-160H180v160Zm440 0h160v-160H620v160ZM180-180h160v-160H180v160Zm440 0h160v-160H620v160Z\"/>\n",
              "  </svg>\n",
              "    </button>\n",
              "\n",
              "  <style>\n",
              "    .colab-df-container {\n",
              "      display:flex;\n",
              "      gap: 12px;\n",
              "    }\n",
              "\n",
              "    .colab-df-convert {\n",
              "      background-color: #E8F0FE;\n",
              "      border: none;\n",
              "      border-radius: 50%;\n",
              "      cursor: pointer;\n",
              "      display: none;\n",
              "      fill: #1967D2;\n",
              "      height: 32px;\n",
              "      padding: 0 0 0 0;\n",
              "      width: 32px;\n",
              "    }\n",
              "\n",
              "    .colab-df-convert:hover {\n",
              "      background-color: #E2EBFA;\n",
              "      box-shadow: 0px 1px 2px rgba(60, 64, 67, 0.3), 0px 1px 3px 1px rgba(60, 64, 67, 0.15);\n",
              "      fill: #174EA6;\n",
              "    }\n",
              "\n",
              "    .colab-df-buttons div {\n",
              "      margin-bottom: 4px;\n",
              "    }\n",
              "\n",
              "    [theme=dark] .colab-df-convert {\n",
              "      background-color: #3B4455;\n",
              "      fill: #D2E3FC;\n",
              "    }\n",
              "\n",
              "    [theme=dark] .colab-df-convert:hover {\n",
              "      background-color: #434B5C;\n",
              "      box-shadow: 0px 1px 3px 1px rgba(0, 0, 0, 0.15);\n",
              "      filter: drop-shadow(0px 1px 2px rgba(0, 0, 0, 0.3));\n",
              "      fill: #FFFFFF;\n",
              "    }\n",
              "  </style>\n",
              "\n",
              "    <script>\n",
              "      const buttonEl =\n",
              "        document.querySelector('#df-46eeae16-0af9-40c3-90e3-c81e373a3901 button.colab-df-convert');\n",
              "      buttonEl.style.display =\n",
              "        google.colab.kernel.accessAllowed ? 'block' : 'none';\n",
              "\n",
              "      async function convertToInteractive(key) {\n",
              "        const element = document.querySelector('#df-46eeae16-0af9-40c3-90e3-c81e373a3901');\n",
              "        const dataTable =\n",
              "          await google.colab.kernel.invokeFunction('convertToInteractive',\n",
              "                                                    [key], {});\n",
              "        if (!dataTable) return;\n",
              "\n",
              "        const docLinkHtml = 'Like what you see? Visit the ' +\n",
              "          '<a target=\"_blank\" href=https://colab.research.google.com/notebooks/data_table.ipynb>data table notebook</a>'\n",
              "          + ' to learn more about interactive tables.';\n",
              "        element.innerHTML = '';\n",
              "        dataTable['output_type'] = 'display_data';\n",
              "        await google.colab.output.renderOutput(dataTable, element);\n",
              "        const docLink = document.createElement('div');\n",
              "        docLink.innerHTML = docLinkHtml;\n",
              "        element.appendChild(docLink);\n",
              "      }\n",
              "    </script>\n",
              "  </div>\n",
              "\n",
              "\n",
              "    <div id=\"df-db1cb36b-6f6a-46c5-b7c0-324e09fa5b6e\">\n",
              "      <button class=\"colab-df-quickchart\" onclick=\"quickchart('df-db1cb36b-6f6a-46c5-b7c0-324e09fa5b6e')\"\n",
              "                title=\"Suggest charts\"\n",
              "                style=\"display:none;\">\n",
              "\n",
              "<svg xmlns=\"http://www.w3.org/2000/svg\" height=\"24px\"viewBox=\"0 0 24 24\"\n",
              "     width=\"24px\">\n",
              "    <g>\n",
              "        <path d=\"M19 3H5c-1.1 0-2 .9-2 2v14c0 1.1.9 2 2 2h14c1.1 0 2-.9 2-2V5c0-1.1-.9-2-2-2zM9 17H7v-7h2v7zm4 0h-2V7h2v10zm4 0h-2v-4h2v4z\"/>\n",
              "    </g>\n",
              "</svg>\n",
              "      </button>\n",
              "\n",
              "<style>\n",
              "  .colab-df-quickchart {\n",
              "      --bg-color: #E8F0FE;\n",
              "      --fill-color: #1967D2;\n",
              "      --hover-bg-color: #E2EBFA;\n",
              "      --hover-fill-color: #174EA6;\n",
              "      --disabled-fill-color: #AAA;\n",
              "      --disabled-bg-color: #DDD;\n",
              "  }\n",
              "\n",
              "  [theme=dark] .colab-df-quickchart {\n",
              "      --bg-color: #3B4455;\n",
              "      --fill-color: #D2E3FC;\n",
              "      --hover-bg-color: #434B5C;\n",
              "      --hover-fill-color: #FFFFFF;\n",
              "      --disabled-bg-color: #3B4455;\n",
              "      --disabled-fill-color: #666;\n",
              "  }\n",
              "\n",
              "  .colab-df-quickchart {\n",
              "    background-color: var(--bg-color);\n",
              "    border: none;\n",
              "    border-radius: 50%;\n",
              "    cursor: pointer;\n",
              "    display: none;\n",
              "    fill: var(--fill-color);\n",
              "    height: 32px;\n",
              "    padding: 0;\n",
              "    width: 32px;\n",
              "  }\n",
              "\n",
              "  .colab-df-quickchart:hover {\n",
              "    background-color: var(--hover-bg-color);\n",
              "    box-shadow: 0 1px 2px rgba(60, 64, 67, 0.3), 0 1px 3px 1px rgba(60, 64, 67, 0.15);\n",
              "    fill: var(--button-hover-fill-color);\n",
              "  }\n",
              "\n",
              "  .colab-df-quickchart-complete:disabled,\n",
              "  .colab-df-quickchart-complete:disabled:hover {\n",
              "    background-color: var(--disabled-bg-color);\n",
              "    fill: var(--disabled-fill-color);\n",
              "    box-shadow: none;\n",
              "  }\n",
              "\n",
              "  .colab-df-spinner {\n",
              "    border: 2px solid var(--fill-color);\n",
              "    border-color: transparent;\n",
              "    border-bottom-color: var(--fill-color);\n",
              "    animation:\n",
              "      spin 1s steps(1) infinite;\n",
              "  }\n",
              "\n",
              "  @keyframes spin {\n",
              "    0% {\n",
              "      border-color: transparent;\n",
              "      border-bottom-color: var(--fill-color);\n",
              "      border-left-color: var(--fill-color);\n",
              "    }\n",
              "    20% {\n",
              "      border-color: transparent;\n",
              "      border-left-color: var(--fill-color);\n",
              "      border-top-color: var(--fill-color);\n",
              "    }\n",
              "    30% {\n",
              "      border-color: transparent;\n",
              "      border-left-color: var(--fill-color);\n",
              "      border-top-color: var(--fill-color);\n",
              "      border-right-color: var(--fill-color);\n",
              "    }\n",
              "    40% {\n",
              "      border-color: transparent;\n",
              "      border-right-color: var(--fill-color);\n",
              "      border-top-color: var(--fill-color);\n",
              "    }\n",
              "    60% {\n",
              "      border-color: transparent;\n",
              "      border-right-color: var(--fill-color);\n",
              "    }\n",
              "    80% {\n",
              "      border-color: transparent;\n",
              "      border-right-color: var(--fill-color);\n",
              "      border-bottom-color: var(--fill-color);\n",
              "    }\n",
              "    90% {\n",
              "      border-color: transparent;\n",
              "      border-bottom-color: var(--fill-color);\n",
              "    }\n",
              "  }\n",
              "</style>\n",
              "\n",
              "      <script>\n",
              "        async function quickchart(key) {\n",
              "          const quickchartButtonEl =\n",
              "            document.querySelector('#' + key + ' button');\n",
              "          quickchartButtonEl.disabled = true;  // To prevent multiple clicks.\n",
              "          quickchartButtonEl.classList.add('colab-df-spinner');\n",
              "          try {\n",
              "            const charts = await google.colab.kernel.invokeFunction(\n",
              "                'suggestCharts', [key], {});\n",
              "          } catch (error) {\n",
              "            console.error('Error during call to suggestCharts:', error);\n",
              "          }\n",
              "          quickchartButtonEl.classList.remove('colab-df-spinner');\n",
              "          quickchartButtonEl.classList.add('colab-df-quickchart-complete');\n",
              "        }\n",
              "        (() => {\n",
              "          let quickchartButtonEl =\n",
              "            document.querySelector('#df-db1cb36b-6f6a-46c5-b7c0-324e09fa5b6e button');\n",
              "          quickchartButtonEl.style.display =\n",
              "            google.colab.kernel.accessAllowed ? 'block' : 'none';\n",
              "        })();\n",
              "      </script>\n",
              "    </div>\n",
              "\n",
              "    </div>\n",
              "  </div>\n"
            ],
            "application/vnd.google.colaboratory.intrinsic+json": {
              "type": "dataframe",
              "variable_name": "df"
            }
          },
          "metadata": {},
          "execution_count": 5
        }
      ]
    },
    {
      "cell_type": "code",
      "source": [
        "df['condition'].unique()"
      ],
      "metadata": {
        "colab": {
          "base_uri": "https://localhost:8080/"
        },
        "id": "YYUIXxhEsDjB",
        "outputId": "31b46e07-598f-4b53-8de3-79f9baf4b217"
      },
      "execution_count": 6,
      "outputs": [
        {
          "output_type": "execute_result",
          "data": {
            "text/plain": [
              "array(['baseline', 'amusement', 'meditation', 'stress'], dtype=object)"
            ]
          },
          "metadata": {},
          "execution_count": 6
        }
      ]
    },
    {
      "cell_type": "code",
      "source": [
        "label_map = {'baseline': 0, 'stress': 1, 'amusement': 2, 'meditation': 3}\n",
        "df['label'] = df['condition'].map(label_map)"
      ],
      "metadata": {
        "id": "Glqtf7FgZLgB"
      },
      "execution_count": 7,
      "outputs": []
    },
    {
      "cell_type": "code",
      "source": [
        "df['label'].unique()"
      ],
      "metadata": {
        "colab": {
          "base_uri": "https://localhost:8080/"
        },
        "id": "biPappAZskYu",
        "outputId": "2019b6c2-b574-4859-8c75-5449a1069b81"
      },
      "execution_count": 8,
      "outputs": [
        {
          "output_type": "execute_result",
          "data": {
            "text/plain": [
              "array([0, 2, 3, 1])"
            ]
          },
          "metadata": {},
          "execution_count": 8
        }
      ]
    },
    {
      "cell_type": "code",
      "source": [
        "drop_cols = ['condition', 'SSSQ']\n",
        "df = df.drop(columns=drop_cols)"
      ],
      "metadata": {
        "id": "CPU4bwyVecEB"
      },
      "execution_count": 9,
      "outputs": []
    },
    {
      "cell_type": "code",
      "source": [
        "df['subject id'].head()"
      ],
      "metadata": {
        "colab": {
          "base_uri": "https://localhost:8080/",
          "height": 241
        },
        "id": "Hij-jVsdfO7M",
        "outputId": "0f487439-137d-48b3-af81-b20b3308f9a6"
      },
      "execution_count": 10,
      "outputs": [
        {
          "output_type": "execute_result",
          "data": {
            "text/plain": [
              "0    10\n",
              "1    10\n",
              "2    10\n",
              "3    10\n",
              "4    10\n",
              "Name: subject id, dtype: int64"
            ],
            "text/html": [
              "<div>\n",
              "<style scoped>\n",
              "    .dataframe tbody tr th:only-of-type {\n",
              "        vertical-align: middle;\n",
              "    }\n",
              "\n",
              "    .dataframe tbody tr th {\n",
              "        vertical-align: top;\n",
              "    }\n",
              "\n",
              "    .dataframe thead th {\n",
              "        text-align: right;\n",
              "    }\n",
              "</style>\n",
              "<table border=\"1\" class=\"dataframe\">\n",
              "  <thead>\n",
              "    <tr style=\"text-align: right;\">\n",
              "      <th></th>\n",
              "      <th>subject id</th>\n",
              "    </tr>\n",
              "  </thead>\n",
              "  <tbody>\n",
              "    <tr>\n",
              "      <th>0</th>\n",
              "      <td>10</td>\n",
              "    </tr>\n",
              "    <tr>\n",
              "      <th>1</th>\n",
              "      <td>10</td>\n",
              "    </tr>\n",
              "    <tr>\n",
              "      <th>2</th>\n",
              "      <td>10</td>\n",
              "    </tr>\n",
              "    <tr>\n",
              "      <th>3</th>\n",
              "      <td>10</td>\n",
              "    </tr>\n",
              "    <tr>\n",
              "      <th>4</th>\n",
              "      <td>10</td>\n",
              "    </tr>\n",
              "  </tbody>\n",
              "</table>\n",
              "</div><br><label><b>dtype:</b> int64</label>"
            ]
          },
          "metadata": {},
          "execution_count": 10
        }
      ]
    },
    {
      "cell_type": "code",
      "source": [
        "feature_cols = [col for col in df.columns if col not in ['subject id', 'Time', 'label']]"
      ],
      "metadata": {
        "id": "bhx7GKfyeysF"
      },
      "execution_count": 11,
      "outputs": []
    },
    {
      "cell_type": "code",
      "source": [
        "len(feature_cols)"
      ],
      "metadata": {
        "colab": {
          "base_uri": "https://localhost:8080/"
        },
        "id": "HIC3RX4Lzydi",
        "outputId": "522ebec3-0ed2-4433-aced-c4bcb1e75b6d"
      },
      "execution_count": 12,
      "outputs": [
        {
          "output_type": "execute_result",
          "data": {
            "text/plain": [
              "62"
            ]
          },
          "metadata": {},
          "execution_count": 12
        }
      ]
    },
    {
      "cell_type": "code",
      "source": [
        "scaler = StandardScaler()\n",
        "df[feature_cols] = scaler.fit_transform(df[feature_cols])"
      ],
      "metadata": {
        "id": "OtTLQ6eFfWLf"
      },
      "execution_count": 13,
      "outputs": []
    },
    {
      "cell_type": "markdown",
      "source": [
        "# Dataset Class(Including Preprocessing)"
      ],
      "metadata": {
        "id": "XxJcf_PyoqEt"
      }
    },
    {
      "cell_type": "code",
      "source": [
        "class WESAD(Dataset):\n",
        "  def __init__(self, df, subjects_to_include=None, feature_cols=None):\n",
        "\n",
        "    self.X_seq, self.y_seq, self.lens = [], [], []\n",
        "\n",
        "    grouped = df.groupby('subject id')\n",
        "\n",
        "    for subject_id, group in grouped:\n",
        "      if subjects_to_include is not None and subject_id not in subjects_to_include:\n",
        "        continue\n",
        "\n",
        "      group = group.sort_values('Time')\n",
        "      X = group[feature_cols].values\n",
        "      y = group['label'].values[0]\n",
        "\n",
        "      self.X_seq.append(torch.tensor(X, dtype=torch.float32))\n",
        "      self.y_seq.append(y)\n",
        "      self.lens.append(len(X))\n",
        "\n",
        "    self.length = len(self.y_seq)\n",
        "\n",
        "  def __getitem__(self, ind):\n",
        "    X = self.X_seq[ind]\n",
        "    y = torch.tensor(self.y_seq[ind], dtype=torch.int64)\n",
        "\n",
        "    return X, y\n",
        "\n",
        "  def __len__(self):\n",
        "    return self.length\n",
        "\n",
        "  def collate_fn(self, batch):\n",
        "    batch_X, batch_y = zip(*batch)\n",
        "\n",
        "    X_lens = [X.shape[0] for X in batch_X]\n",
        "\n",
        "    batch_X = pad_sequence(batch_X, batch_first=True)\n",
        "\n",
        "    return batch_X, torch.tensor(batch_y, dtype=torch.int64), torch.tensor(X_lens)"
      ],
      "metadata": {
        "id": "Rhy9Izx6hItV"
      },
      "execution_count": 33,
      "outputs": []
    },
    {
      "cell_type": "markdown",
      "source": [
        "# *Model*"
      ],
      "metadata": {
        "id": "h0sU0pZMowqW"
      }
    },
    {
      "cell_type": "code",
      "source": [
        "torch.cuda.empty_cache()\n",
        "\n",
        "class PermuteBlock(torch.nn.Module):\n",
        "  def forward(self, x):\n",
        "    return x.transpose(1, 2)"
      ],
      "metadata": {
        "id": "k0zOHiPcxPJt"
      },
      "execution_count": 15,
      "outputs": []
    },
    {
      "cell_type": "markdown",
      "source": [
        "## Pyramidal-Bi-LSTM"
      ],
      "metadata": {
        "id": "2NPEdZL3qOiH"
      }
    },
    {
      "cell_type": "code",
      "source": [
        "class pBLSTM(torch.nn.Module):\n",
        "  def __init__(self, input_size, hidden_size=128):\n",
        "    super(pBLSTM, self).__init__()\n",
        "\n",
        "    self.blstm1 = nn.LSTM(input_size*2, hidden_size, batch_first=True, bidirectional=True, dropout=0.2)\n",
        "    self._init_weights()\n",
        "\n",
        "  def forward(self, x_packed):\n",
        "    x_unpacked, lens_unpacked = pad_packed_sequence(x_packed, batch_first=True)\n",
        "\n",
        "    x_reshaped, x_lens_reshaped = self.trunc_reshape(x_unpacked, lens_unpacked)\n",
        "\n",
        "    x_packed = pack_padded_sequence(x_reshaped, x_lens_reshaped, enforce_sorted=False, batch_first=True)\n",
        "\n",
        "    out, _ = self.blstm1(x_packed)\n",
        "\n",
        "    return out\n",
        "\n",
        "  def trunc_reshape(self, x, x_lens):\n",
        "    T = x.shape[1]\n",
        "    if T % 2 != 0:\n",
        "      x = x[:, :-1, :]\n",
        "      x_lens = x_lens - 1\n",
        "\n",
        "    B, T, F = x.shape\n",
        "\n",
        "    x = torch.reshape(x, (B, T//2, F*2))\n",
        "    x_lens = torch.clamp(x_lens // 2, min=1)\n",
        "\n",
        "    return x, x_lens\n",
        "\n",
        "  def _init_weights(self):\n",
        "    for name, param in self.blstm1.named_parameters():\n",
        "      if 'weight_ih' in name:\n",
        "        nn.init.xavier_uniform_(param.data)\n",
        "      elif 'weight_hh' in name:\n",
        "        nn.init.orthogonal_(param.data)\n",
        "      elif 'bias' in name:\n",
        "        param.data.fill_(0)\n",
        "        n = param.size(0)\n",
        "        param.data[n//4:n//2].fill_(1)\n"
      ],
      "metadata": {
        "id": "4cw6TJPKteoC"
      },
      "execution_count": 16,
      "outputs": []
    },
    {
      "cell_type": "markdown",
      "source": [
        "## Locked Dropout(for LSTM Layer)"
      ],
      "metadata": {
        "id": "JLerEYD8qVX9"
      }
    },
    {
      "cell_type": "code",
      "source": [
        "class LockedDropout(nn.Module):\n",
        "    \"\"\" LockedDropout applies the same dropout mask to every time step.\n",
        "\n",
        "    **Thank you** to Sales Force for their initial implementation of :class:`WeightDrop`. Here is\n",
        "    their `License\n",
        "    <https://github.com/salesforce/awd-lstm-lm/blob/master/LICENSE>`__.\n",
        "\n",
        "    Args:\n",
        "        p (float): Probability of an element in the dropout mask to be zeroed.\n",
        "    \"\"\"\n",
        "\n",
        "    def __init__(self, p=0.5):\n",
        "        self.p = p\n",
        "        super().__init__()\n",
        "\n",
        "    def forward(self, x):\n",
        "        \"\"\"\n",
        "        Args:\n",
        "            x (:class:`torch.FloatTensor` [sequence length, batch size, rnn hidden size]): Input to\n",
        "                apply dropout too.\n",
        "        \"\"\"\n",
        "        if not self.training or not self.p:\n",
        "            return x\n",
        "        x = x.clone()\n",
        "        mask = x.new_empty(1, x.size(1), x.size(2), requires_grad=False).bernoulli_(1 - self.p)\n",
        "        mask = mask.div_(1 - self.p)\n",
        "        mask = mask.expand_as(x)\n",
        "        return x * mask\n",
        "\n",
        "\n",
        "    def __repr__(self):\n",
        "        return self.__class__.__name__ + '(' \\\n",
        "            + 'p=' + str(self.p) + ')'"
      ],
      "metadata": {
        "id": "6acROHeb4ftz"
      },
      "execution_count": 17,
      "outputs": []
    },
    {
      "cell_type": "markdown",
      "source": [
        "## Unpack and Pack Sequences"
      ],
      "metadata": {
        "id": "53jseIVEqglp"
      }
    },
    {
      "cell_type": "code",
      "source": [
        "class Unpack(torch.nn.Module):\n",
        "  def __init__(self):\n",
        "    super().__init__()\n",
        "\n",
        "  def forward(self, x_packed):\n",
        "    x_unpacked, x_lens = pad_packed_sequence(x_packed, batch_first=True)\n",
        "\n",
        "    return x_unpacked, x_lens\n"
      ],
      "metadata": {
        "id": "3lmbdMFHGLbM"
      },
      "execution_count": 18,
      "outputs": []
    },
    {
      "cell_type": "code",
      "source": [
        "class Pack(torch.nn.Module):\n",
        "  def __init__(self):\n",
        "    super().__init__()\n",
        "\n",
        "  def forward(self, x, x_lens):\n",
        "    x_packed = pack_padded_sequence(x, x_lens, enforce_sorted=False, batch_first=True)\n",
        "\n",
        "    return x_packed"
      ],
      "metadata": {
        "id": "S5KMNWdj4iSo"
      },
      "execution_count": 19,
      "outputs": []
    },
    {
      "cell_type": "markdown",
      "source": [
        "## Encoder(Embedding layer + Sequence Model)"
      ],
      "metadata": {
        "id": "q5Xb3B7kq_0b"
      }
    },
    {
      "cell_type": "code",
      "source": [
        "class Encoder(torch.nn.Module):\n",
        "  def __init__(self, input_size, encoder_hidden_size=128):\n",
        "    super(Encoder, self).__init__()\n",
        "\n",
        "    self.permute = PermuteBlock()\n",
        "    self.embedding = nn.Conv1d(input_size, 128, kernel_size=3, padding=1, stride=1)\n",
        "\n",
        "    self.pBLSTMs = torch.nn.Sequential(\n",
        "        pBLSTM(128, encoder_hidden_size),\n",
        "        pBLSTM(2*encoder_hidden_size, encoder_hidden_size),\n",
        "    )\n",
        "\n",
        "    self.pooling = nn.AdaptiveAvgPool1d(1)\n",
        "    self.locked_dropout = LockedDropout()\n",
        "\n",
        "    self.pack = Pack()\n",
        "    self.unpack = Unpack()\n",
        "\n",
        "    self._init_weights()\n",
        "\n",
        "  def forward(self, x, x_lens):\n",
        "    x = self.permute(x)\n",
        "    x = self.embedding(x)\n",
        "    x = self.permute(x)\n",
        "\n",
        "    for layer in self.pBLSTMs:\n",
        "      x = self.pack(x, x_lens)\n",
        "      x = layer(x)\n",
        "      x, x_lens = self.unpack(x)\n",
        "      x = self.permute(x)\n",
        "      x = self.locked_dropout(x)\n",
        "      x = self.permute(x)\n",
        "\n",
        "    encoder_outputs, encoder_lens = (x, x_lens)\n",
        "\n",
        "    encoder_outputs = self.permute(encoder_outputs)\n",
        "    encoder_outputs = self.pooling(encoder_outputs)\n",
        "    encoder_outputs = encoder_outputs.squeeze(-1)\n",
        "\n",
        "    return encoder_outputs, encoder_lens\n",
        "\n",
        "  def _init_weights(self):\n",
        "    for m in self.modules():\n",
        "      if isinstance(m, nn.Conv1d):\n",
        "        nn.init.xavier_normal_(m.weight)\n"
      ],
      "metadata": {
        "id": "EnJNFUtK4jtR"
      },
      "execution_count": 20,
      "outputs": []
    },
    {
      "cell_type": "markdown",
      "source": [
        "## Decoder(Classifier)"
      ],
      "metadata": {
        "id": "ut1XePybrOhb"
      }
    },
    {
      "cell_type": "code",
      "source": [
        "class Decoder(torch.nn.Module):\n",
        "  def __init__(self, embed_size, output_size=4):\n",
        "    super().__init__()\n",
        "    self.mlp = nn.Sequential(\n",
        "        nn.Linear(2*embed_size, 128),\n",
        "        nn.ReLU(),\n",
        "        nn.Dropout(0.3),\n",
        "        nn.Linear(128, output_size)\n",
        "      )\n",
        "\n",
        "\n",
        "\n",
        "    self._init_weights()\n",
        "\n",
        "  def forward(self, encoder_out):\n",
        "    out = self.mlp(encoder_out)\n",
        "\n",
        "    return out\n",
        "\n",
        "  def _init_weights(self):\n",
        "    for m in self.modules():\n",
        "      if isinstance(m, nn.Linear):\n",
        "        nn.init.kaiming_normal_(m.weight)\n"
      ],
      "metadata": {
        "id": "dYMKZtti4k9G"
      },
      "execution_count": 21,
      "outputs": []
    },
    {
      "cell_type": "markdown",
      "source": [
        "## Final Model(Encoder + Decoder)"
      ],
      "metadata": {
        "id": "nRHYNOQUrUTZ"
      }
    },
    {
      "cell_type": "code",
      "source": [
        "class StressModel(torch.nn.Module):\n",
        "  def __init__(self, input_size, embed_size=128, output_size=4):\n",
        "    super().__init__()\n",
        "\n",
        "    self.encoder = Encoder(input_size, embed_size)\n",
        "    self.decoder = Decoder(embed_size, output_size)\n",
        "\n",
        "  def forward(self, x, x_lens):\n",
        "    encoder_out, encoder_lens = self.encoder(x, x_lens)\n",
        "\n",
        "    decoder_out = self.decoder(encoder_out)\n",
        "\n",
        "    return decoder_out, encoder_lens\n"
      ],
      "metadata": {
        "id": "BmwcERkW4m9r"
      },
      "execution_count": 22,
      "outputs": []
    },
    {
      "cell_type": "code",
      "source": [
        "IN_SIZE = len(feature_cols)\n",
        "EMBED_SIZE = 128\n",
        "OUT_SIZE = 4"
      ],
      "metadata": {
        "id": "BNUvqjTcFftk"
      },
      "execution_count": 23,
      "outputs": []
    },
    {
      "cell_type": "code",
      "source": [
        "model = StressModel(input_size=IN_SIZE, embed_size=EMBED_SIZE, output_size=OUT_SIZE).to(device)\n",
        "print(model)"
      ],
      "metadata": {
        "colab": {
          "base_uri": "https://localhost:8080/"
        },
        "id": "8S_Jzz3l4pA6",
        "outputId": "748b058f-0c00-4c02-ed81-6c8322b38375"
      },
      "execution_count": 24,
      "outputs": [
        {
          "output_type": "stream",
          "name": "stdout",
          "text": [
            "StressModel(\n",
            "  (encoder): Encoder(\n",
            "    (permute): PermuteBlock()\n",
            "    (embedding): Conv1d(62, 128, kernel_size=(3,), stride=(1,), padding=(1,))\n",
            "    (pBLSTMs): Sequential(\n",
            "      (0): pBLSTM(\n",
            "        (blstm1): LSTM(256, 128, batch_first=True, dropout=0.2, bidirectional=True)\n",
            "      )\n",
            "      (1): pBLSTM(\n",
            "        (blstm1): LSTM(512, 128, batch_first=True, dropout=0.2, bidirectional=True)\n",
            "      )\n",
            "    )\n",
            "    (pooling): AdaptiveAvgPool1d(output_size=1)\n",
            "    (locked_dropout): LockedDropout(p=0.5)\n",
            "    (pack): Pack()\n",
            "    (unpack): Unpack()\n",
            "  )\n",
            "  (decoder): Decoder(\n",
            "    (mlp): Sequential(\n",
            "      (0): Linear(in_features=256, out_features=128, bias=True)\n",
            "      (1): ReLU()\n",
            "      (2): Dropout(p=0.3, inplace=False)\n",
            "      (3): Linear(in_features=128, out_features=4, bias=True)\n",
            "    )\n",
            "  )\n",
            ")\n"
          ]
        }
      ]
    },
    {
      "cell_type": "code",
      "source": [
        "B, T, F = 2, 300, 62\n",
        "dummy_x = torch.randn(B, T, F).to(device)\n",
        "dummy_x_lens = torch.tensor([T, T-10])\n",
        "\n",
        "\n",
        "summary(model, input_data=(dummy_x, dummy_x_lens), depth=3, col_names=[\"input_size\", \"output_size\", \"num_params\"])\n"
      ],
      "metadata": {
        "colab": {
          "base_uri": "https://localhost:8080/"
        },
        "id": "5E_z1_NCfLZU",
        "outputId": "c846bc3f-b67f-47c0-fa92-b26cf41e96ab"
      },
      "execution_count": 25,
      "outputs": [
        {
          "output_type": "execute_result",
          "data": {
            "text/plain": [
              "===================================================================================================================\n",
              "Layer (type:depth-idx)                   Input Shape               Output Shape              Param #\n",
              "===================================================================================================================\n",
              "StressModel                              [2, 300, 62]              [2, 4]                    --\n",
              "├─Encoder: 1-1                           [2, 300, 62]              [2, 256]                  --\n",
              "│    └─PermuteBlock: 2-1                 [2, 300, 62]              [2, 62, 300]              --\n",
              "│    └─Conv1d: 2-2                       [2, 62, 300]              [2, 128, 300]             23,936\n",
              "│    └─PermuteBlock: 2-3                 [2, 128, 300]             [2, 300, 128]             --\n",
              "│    └─Pack: 2-4                         [2, 300, 128]             [590, 128]                --\n",
              "│    └─Sequential: 2-11                  --                        --                        (recursive)\n",
              "│    │    └─pBLSTM: 3-1                  [590, 128]                [295, 256]                395,264\n",
              "│    └─Unpack: 2-6                       [295, 256]                [2, 150, 256]             --\n",
              "│    └─PermuteBlock: 2-7                 [2, 150, 256]             [2, 256, 150]             --\n",
              "│    └─LockedDropout: 2-8                [2, 256, 150]             [2, 256, 150]             --\n",
              "│    └─PermuteBlock: 2-9                 [2, 256, 150]             [2, 150, 256]             --\n",
              "│    └─Pack: 2-10                        [2, 150, 256]             [295, 256]                --\n",
              "│    └─Sequential: 2-11                  --                        --                        (recursive)\n",
              "│    │    └─pBLSTM: 3-2                  [295, 256]                [147, 256]                657,408\n",
              "│    └─Unpack: 2-12                      [147, 256]                [2, 75, 256]              --\n",
              "│    └─PermuteBlock: 2-13                [2, 75, 256]              [2, 256, 75]              --\n",
              "│    └─LockedDropout: 2-14               [2, 256, 75]              [2, 256, 75]              --\n",
              "│    └─PermuteBlock: 2-15                [2, 256, 75]              [2, 75, 256]              --\n",
              "│    └─PermuteBlock: 2-16                [2, 75, 256]              [2, 256, 75]              --\n",
              "│    └─AdaptiveAvgPool1d: 2-17           [2, 256, 75]              [2, 256, 1]               --\n",
              "├─Decoder: 1-2                           [2, 256]                  [2, 4]                    --\n",
              "│    └─Sequential: 2-18                  [2, 256]                  [2, 4]                    --\n",
              "│    │    └─Linear: 3-3                  [2, 256]                  [2, 128]                  32,896\n",
              "│    │    └─ReLU: 3-4                    [2, 128]                  [2, 128]                  --\n",
              "│    │    └─Dropout: 3-5                 [2, 128]                  [2, 128]                  --\n",
              "│    │    └─Linear: 3-6                  [2, 128]                  [2, 4]                    516\n",
              "===================================================================================================================\n",
              "Total params: 1,110,020\n",
              "Trainable params: 1,110,020\n",
              "Non-trainable params: 0\n",
              "Total mult-adds (Units.GIGABYTES): 54.60\n",
              "===================================================================================================================\n",
              "Input size (MB): 0.15\n",
              "Forward/backward pass size (MB): 1.52\n",
              "Params size (MB): 4.44\n",
              "Estimated Total Size (MB): 6.11\n",
              "==================================================================================================================="
            ]
          },
          "metadata": {},
          "execution_count": 25
        }
      ]
    },
    {
      "cell_type": "markdown",
      "source": [
        "# *Train and Eval Functions*"
      ],
      "metadata": {
        "id": "xIjyF9e1pKdA"
      }
    },
    {
      "cell_type": "code",
      "source": [
        "def train_one_epoch(model, loader, criterion, optimizer, scaler):\n",
        "    model.train()\n",
        "    total_loss = 0\n",
        "    for x, y, lens in loader:\n",
        "        x, y = x.to(device), y.to(device)\n",
        "        optimizer.zero_grad()\n",
        "\n",
        "        with torch.cuda.amp.autocast():\n",
        "            out, _ = model(x, lens)\n",
        "            loss = criterion(out, y)\n",
        "\n",
        "        total_loss += loss.item()\n",
        "        scaler.scale(loss).backward()\n",
        "        scaler.step(optimizer)\n",
        "        scaler.update()\n",
        "\n",
        "    return total_loss / len(loader)\n"
      ],
      "metadata": {
        "id": "yzNyBRkOJY6n"
      },
      "execution_count": 26,
      "outputs": []
    },
    {
      "cell_type": "code",
      "source": [
        "def evaluate(model, loader):\n",
        "    model.eval()\n",
        "    y_true, y_pred = [], []\n",
        "    total_loss = 0\n",
        "\n",
        "    with torch.no_grad():\n",
        "        for x, y, lens in loader:\n",
        "            x, y = x.to(device), y.to(device)\n",
        "            out, _ = model(x, lens)\n",
        "\n",
        "            pred = torch.argmax(out, dim=1)\n",
        "            y_true.extend(y.cpu().numpy())\n",
        "            y_pred.extend(pred.cpu().numpy())\n",
        "\n",
        "    acc = accuracy_score(y_true, y_pred)\n",
        "    f1  = f1_score(y_true, y_pred, average='weighted')\n",
        "    return 0, acc, f1\n"
      ],
      "metadata": {
        "id": "hJ8y1i6wJdI9"
      },
      "execution_count": 27,
      "outputs": []
    },
    {
      "cell_type": "markdown",
      "source": [
        "# Wandb for Metric Logging"
      ],
      "metadata": {
        "id": "tvzWFKAUpW05"
      }
    },
    {
      "cell_type": "code",
      "source": [
        "import wandb\n",
        "wandb.login(key=\"39e9c89279f6d046c7bae725e099c70ddf0fd98f\")"
      ],
      "metadata": {
        "colab": {
          "base_uri": "https://localhost:8080/"
        },
        "id": "vdReFH1hNrNB",
        "outputId": "f0d950e7-9b37-4802-e626-df27e36c11ec"
      },
      "execution_count": 28,
      "outputs": [
        {
          "output_type": "stream",
          "name": "stderr",
          "text": [
            "\u001b[34m\u001b[1mwandb\u001b[0m: \u001b[33mWARNING\u001b[0m If you're specifying your api key in code, ensure this code is not shared publicly.\n",
            "\u001b[34m\u001b[1mwandb\u001b[0m: \u001b[33mWARNING\u001b[0m Consider setting the WANDB_API_KEY environment variable, or running `wandb login` from the command line.\n",
            "\u001b[34m\u001b[1mwandb\u001b[0m: No netrc file found, creating one.\n",
            "\u001b[34m\u001b[1mwandb\u001b[0m: Appending key for api.wandb.ai to your netrc file: /root/.netrc\n",
            "\u001b[34m\u001b[1mwandb\u001b[0m: Currently logged in as: \u001b[33mrishitsaxena55\u001b[0m (\u001b[33mrishitsaxena55-indian-institute-of-technology\u001b[0m) to \u001b[32mhttps://api.wandb.ai\u001b[0m. Use \u001b[1m`wandb login --relogin`\u001b[0m to force relogin\n"
          ]
        },
        {
          "output_type": "execute_result",
          "data": {
            "text/plain": [
              "True"
            ]
          },
          "metadata": {},
          "execution_count": 28
        }
      ]
    },
    {
      "cell_type": "code",
      "source": [
        "run = wandb.init(\n",
        "    name = \"first\", ## Wandb creates random run names if you skip this field\n",
        "    reinit = True, ### Allows reinitalizing runs when you re-run this cell\n",
        "    #id = \"rbborunl\", ### Insert specific run id here if you want to resume a previous run\n",
        "    #resume = \"must\", ### You need this to resume previous runs, but comment out reinit = True when using this\n",
        "    project = \"Body State Monitoring\", ### Project should be created in your wandb account\n",
        ")"
      ],
      "metadata": {
        "colab": {
          "base_uri": "https://localhost:8080/",
          "height": 141
        },
        "id": "ObiNLKEQNwDE",
        "outputId": "d66625b7-cf5f-46b8-be46-032408b1b2ca"
      },
      "execution_count": 29,
      "outputs": [
        {
          "output_type": "stream",
          "name": "stderr",
          "text": [
            "\u001b[34m\u001b[1mwandb\u001b[0m: \u001b[33mWARNING\u001b[0m Using a boolean value for 'reinit' is deprecated. Use 'return_previous' or 'finish_previous' instead.\n"
          ]
        },
        {
          "output_type": "display_data",
          "data": {
            "text/plain": [
              "<IPython.core.display.HTML object>"
            ],
            "text/html": [
              "Tracking run with wandb version 0.21.0"
            ]
          },
          "metadata": {}
        },
        {
          "output_type": "display_data",
          "data": {
            "text/plain": [
              "<IPython.core.display.HTML object>"
            ],
            "text/html": [
              "Run data is saved locally in <code>/content/wandb/run-20250714_071046-4xv58gp0</code>"
            ]
          },
          "metadata": {}
        },
        {
          "output_type": "display_data",
          "data": {
            "text/plain": [
              "<IPython.core.display.HTML object>"
            ],
            "text/html": [
              "Syncing run <strong><a href='https://wandb.ai/rishitsaxena55-indian-institute-of-technology/Body%20State%20Monitoring/runs/4xv58gp0' target=\"_blank\">first</a></strong> to <a href='https://wandb.ai/rishitsaxena55-indian-institute-of-technology/Body%20State%20Monitoring' target=\"_blank\">Weights & Biases</a> (<a href='https://wandb.me/developer-guide' target=\"_blank\">docs</a>)<br>"
            ]
          },
          "metadata": {}
        },
        {
          "output_type": "display_data",
          "data": {
            "text/plain": [
              "<IPython.core.display.HTML object>"
            ],
            "text/html": [
              " View project at <a href='https://wandb.ai/rishitsaxena55-indian-institute-of-technology/Body%20State%20Monitoring' target=\"_blank\">https://wandb.ai/rishitsaxena55-indian-institute-of-technology/Body%20State%20Monitoring</a>"
            ]
          },
          "metadata": {}
        },
        {
          "output_type": "display_data",
          "data": {
            "text/plain": [
              "<IPython.core.display.HTML object>"
            ],
            "text/html": [
              " View run at <a href='https://wandb.ai/rishitsaxena55-indian-institute-of-technology/Body%20State%20Monitoring/runs/4xv58gp0' target=\"_blank\">https://wandb.ai/rishitsaxena55-indian-institute-of-technology/Body%20State%20Monitoring/runs/4xv58gp0</a>"
            ]
          },
          "metadata": {}
        }
      ]
    },
    {
      "cell_type": "code",
      "source": [
        "# This is for checkpointing, if you're doing it over multiple sessions\n",
        "\n",
        "# last_epoch_completed = epoch\n",
        "# start = last_epoch_completed + 1\n",
        "# end = config[\"finetune_epochs\"]\n",
        "# best_lev_dist = metric # if you're restarting from some checkpoint, use what you saw there.\n",
        "# epoch_model_path = \"/content/gdrive/MyDrive\"  # set the model path( Optional, you can just store best one. Make sure to make the changes below )\n",
        "best_model_path = \"/content/gdrive/MyDrive\" # set best model path"
      ],
      "metadata": {
        "id": "xMyB0JjmNcrX"
      },
      "execution_count": 30,
      "outputs": []
    },
    {
      "cell_type": "markdown",
      "source": [
        "# *LOSO(Leave-One-Subject-Out) Training Loop*"
      ],
      "metadata": {
        "id": "wo1BPkYbpqn1"
      }
    },
    {
      "cell_type": "code",
      "source": [
        "import wandb\n",
        "from torch.utils.data import DataLoader\n",
        "from sklearn.metrics import accuracy_score, f1_score\n",
        "\n",
        "# Preprocessed df and feature_cols must be defined outside\n",
        "all_subjects = df['subject id'].unique()\n",
        "results = {}\n",
        "\n",
        "for test_subject in all_subjects:\n",
        "    print(f\"\\n Testing on subject {test_subject} (LOSO)\")\n",
        "\n",
        "    wandb.init(project=\"wesad-loso\", name=f\"Subject_{test_subject}\", reinit=True)\n",
        "\n",
        "    # Split data for LOSO\n",
        "    train_dataset = WESAD(df, subjects_to_include=[s for s in all_subjects if s != test_subject], feature_cols=feature_cols)\n",
        "    test_dataset  = WESAD(df, subjects_to_include=[test_subject], feature_cols=feature_cols)\n",
        "\n",
        "    train_loader = DataLoader(train_dataset, batch_size=4, shuffle=True, collate_fn=train_dataset.collate_fn)\n",
        "    test_loader  = DataLoader(test_dataset,  batch_size=1, shuffle=False, collate_fn=test_dataset.collate_fn)\n",
        "\n",
        "    # Model setup\n",
        "    model = StressModel(input_size=train_dataset.X_seq[0].shape[1], output_size=4).to(device)\n",
        "    optimizer = torch.optim.Adam(model.parameters(), lr=1e-3)\n",
        "    criterion = torch.nn.CrossEntropyLoss()\n",
        "    scaler = torch.cuda.amp.GradScaler()\n",
        "\n",
        "    best_f1 = 0\n",
        "\n",
        "    for epoch in range(10):\n",
        "        print(f\"Epoch {epoch+1}/10\")\n",
        "        train_loss = train_one_epoch(model, train_loader, criterion, optimizer, scaler)\n",
        "        test_loss, acc, f1 = evaluate(model, test_loader)  # Assuming your evaluate returns these 3\n",
        "\n",
        "        wandb.log({\n",
        "            \"epoch\": epoch + 1,\n",
        "            \"train_loss\": train_loss,\n",
        "            \"val_loss\": test_loss,\n",
        "            \"val_acc\": acc,\n",
        "            \"val_f1\": f1,\n",
        "            \"lr\": optimizer.param_groups[0]['lr']\n",
        "        })\n",
        "\n",
        "        # Save best model\n",
        "        if f1 > best_f1:\n",
        "            best_f1 = f1\n",
        "            torch.save(model.state_dict(), os.path.join(best_model_path, f\"best_subject_{test_subject}.pt\"))\n",
        "\n",
        "    wandb.finish()\n",
        "\n",
        "    print(f\" Subject {test_subject} — Acc: {acc:.4f}, F1: {f1:.4f}\")\n",
        "    results[test_subject] = {\"acc\": acc, \"f1\": f1}\n"
      ],
      "metadata": {
        "colab": {
          "base_uri": "https://localhost:8080/",
          "height": 1000
        },
        "id": "AMhGFsbkGE98",
        "outputId": "3eee27c1-caa6-4072-eae6-2833eedf7ad2"
      },
      "execution_count": 36,
      "outputs": [
        {
          "output_type": "stream",
          "name": "stdout",
          "text": [
            "\n",
            "🔁 Testing on subject 10 (LOSO)\n"
          ]
        },
        {
          "output_type": "display_data",
          "data": {
            "text/plain": [
              "<IPython.core.display.HTML object>"
            ],
            "text/html": [
              "Finishing previous runs because reinit is set to True."
            ]
          },
          "metadata": {}
        },
        {
          "output_type": "display_data",
          "data": {
            "text/plain": [
              "<IPython.core.display.HTML object>"
            ],
            "text/html": []
          },
          "metadata": {}
        },
        {
          "output_type": "display_data",
          "data": {
            "text/plain": [
              "<IPython.core.display.HTML object>"
            ],
            "text/html": [
              "<br>    <style><br>        .wandb-row {<br>            display: flex;<br>            flex-direction: row;<br>            flex-wrap: wrap;<br>            justify-content: flex-start;<br>            width: 100%;<br>        }<br>        .wandb-col {<br>            display: flex;<br>            flex-direction: column;<br>            flex-basis: 100%;<br>            flex: 1;<br>            padding: 10px;<br>        }<br>    </style><br><div class=\"wandb-row\"><div class=\"wandb-col\"><h3>Run history:</h3><br/><table class=\"wandb\"><tr><td>epoch</td><td>▁</td></tr><tr><td>lr</td><td>▁</td></tr><tr><td>train_loss</td><td>▁</td></tr><tr><td>val_acc</td><td>▁</td></tr><tr><td>val_f1</td><td>▁</td></tr><tr><td>val_loss</td><td>▁</td></tr></table><br/></div><div class=\"wandb-col\"><h3>Run summary:</h3><br/><table class=\"wandb\"><tr><td>epoch</td><td>1</td></tr><tr><td>lr</td><td>0.001</td></tr><tr><td>train_loss</td><td>0.72028</td></tr><tr><td>val_acc</td><td>1</td></tr><tr><td>val_f1</td><td>1</td></tr><tr><td>val_loss</td><td>0</td></tr></table><br/></div></div>"
            ]
          },
          "metadata": {}
        },
        {
          "output_type": "display_data",
          "data": {
            "text/plain": [
              "<IPython.core.display.HTML object>"
            ],
            "text/html": [
              " View run <strong style=\"color:#cdcd00\">Subject_10</strong> at: <a href='https://wandb.ai/rishitsaxena55-indian-institute-of-technology/wesad-loso/runs/8ekqut38' target=\"_blank\">https://wandb.ai/rishitsaxena55-indian-institute-of-technology/wesad-loso/runs/8ekqut38</a><br> View project at: <a href='https://wandb.ai/rishitsaxena55-indian-institute-of-technology/wesad-loso' target=\"_blank\">https://wandb.ai/rishitsaxena55-indian-institute-of-technology/wesad-loso</a><br>Synced 5 W&B file(s), 0 media file(s), 0 artifact file(s) and 0 other file(s)"
            ]
          },
          "metadata": {}
        },
        {
          "output_type": "display_data",
          "data": {
            "text/plain": [
              "<IPython.core.display.HTML object>"
            ],
            "text/html": [
              "Find logs at: <code>./wandb/run-20250714_072358-8ekqut38/logs</code>"
            ]
          },
          "metadata": {}
        },
        {
          "output_type": "display_data",
          "data": {
            "text/plain": [
              "<IPython.core.display.HTML object>"
            ],
            "text/html": [
              "Tracking run with wandb version 0.21.0"
            ]
          },
          "metadata": {}
        },
        {
          "output_type": "display_data",
          "data": {
            "text/plain": [
              "<IPython.core.display.HTML object>"
            ],
            "text/html": [
              "Run data is saved locally in <code>/content/wandb/run-20250714_072451-vg5i1yyc</code>"
            ]
          },
          "metadata": {}
        },
        {
          "output_type": "display_data",
          "data": {
            "text/plain": [
              "<IPython.core.display.HTML object>"
            ],
            "text/html": [
              "Syncing run <strong><a href='https://wandb.ai/rishitsaxena55-indian-institute-of-technology/wesad-loso/runs/vg5i1yyc' target=\"_blank\">Subject_10</a></strong> to <a href='https://wandb.ai/rishitsaxena55-indian-institute-of-technology/wesad-loso' target=\"_blank\">Weights & Biases</a> (<a href='https://wandb.me/developer-guide' target=\"_blank\">docs</a>)<br>"
            ]
          },
          "metadata": {}
        },
        {
          "output_type": "display_data",
          "data": {
            "text/plain": [
              "<IPython.core.display.HTML object>"
            ],
            "text/html": [
              " View project at <a href='https://wandb.ai/rishitsaxena55-indian-institute-of-technology/wesad-loso' target=\"_blank\">https://wandb.ai/rishitsaxena55-indian-institute-of-technology/wesad-loso</a>"
            ]
          },
          "metadata": {}
        },
        {
          "output_type": "display_data",
          "data": {
            "text/plain": [
              "<IPython.core.display.HTML object>"
            ],
            "text/html": [
              " View run at <a href='https://wandb.ai/rishitsaxena55-indian-institute-of-technology/wesad-loso/runs/vg5i1yyc' target=\"_blank\">https://wandb.ai/rishitsaxena55-indian-institute-of-technology/wesad-loso/runs/vg5i1yyc</a>"
            ]
          },
          "metadata": {}
        },
        {
          "output_type": "stream",
          "name": "stdout",
          "text": [
            "Epoch 1/10\n",
            "Epoch 2/10\n",
            "Epoch 3/10\n",
            "Epoch 4/10\n",
            "Epoch 5/10\n",
            "Epoch 6/10\n",
            "Epoch 7/10\n",
            "Epoch 8/10\n",
            "Epoch 9/10\n",
            "Epoch 10/10\n"
          ]
        },
        {
          "output_type": "display_data",
          "data": {
            "text/plain": [
              "<IPython.core.display.HTML object>"
            ],
            "text/html": []
          },
          "metadata": {}
        },
        {
          "output_type": "display_data",
          "data": {
            "text/plain": [
              "<IPython.core.display.HTML object>"
            ],
            "text/html": [
              "<br>    <style><br>        .wandb-row {<br>            display: flex;<br>            flex-direction: row;<br>            flex-wrap: wrap;<br>            justify-content: flex-start;<br>            width: 100%;<br>        }<br>        .wandb-col {<br>            display: flex;<br>            flex-direction: column;<br>            flex-basis: 100%;<br>            flex: 1;<br>            padding: 10px;<br>        }<br>    </style><br><div class=\"wandb-row\"><div class=\"wandb-col\"><h3>Run history:</h3><br/><table class=\"wandb\"><tr><td>epoch</td><td>▁▂▃▃▄▅▆▆▇█</td></tr><tr><td>lr</td><td>▁▁▁▁▁▁▁▁▁▁</td></tr><tr><td>train_loss</td><td>█▂▁▁▁▁▁▁▁▁</td></tr><tr><td>val_acc</td><td>▁▁▁▁▁▁▁▁▁▁</td></tr><tr><td>val_f1</td><td>▁▁▁▁▁▁▁▁▁▁</td></tr><tr><td>val_loss</td><td>▁▁▁▁▁▁▁▁▁▁</td></tr></table><br/></div><div class=\"wandb-col\"><h3>Run summary:</h3><br/><table class=\"wandb\"><tr><td>epoch</td><td>10</td></tr><tr><td>lr</td><td>0.001</td></tr><tr><td>train_loss</td><td>0.00011</td></tr><tr><td>val_acc</td><td>1</td></tr><tr><td>val_f1</td><td>1</td></tr><tr><td>val_loss</td><td>0</td></tr></table><br/></div></div>"
            ]
          },
          "metadata": {}
        },
        {
          "output_type": "display_data",
          "data": {
            "text/plain": [
              "<IPython.core.display.HTML object>"
            ],
            "text/html": [
              " View run <strong style=\"color:#cdcd00\">Subject_10</strong> at: <a href='https://wandb.ai/rishitsaxena55-indian-institute-of-technology/wesad-loso/runs/vg5i1yyc' target=\"_blank\">https://wandb.ai/rishitsaxena55-indian-institute-of-technology/wesad-loso/runs/vg5i1yyc</a><br> View project at: <a href='https://wandb.ai/rishitsaxena55-indian-institute-of-technology/wesad-loso' target=\"_blank\">https://wandb.ai/rishitsaxena55-indian-institute-of-technology/wesad-loso</a><br>Synced 5 W&B file(s), 0 media file(s), 0 artifact file(s) and 0 other file(s)"
            ]
          },
          "metadata": {}
        },
        {
          "output_type": "display_data",
          "data": {
            "text/plain": [
              "<IPython.core.display.HTML object>"
            ],
            "text/html": [
              "Find logs at: <code>./wandb/run-20250714_072451-vg5i1yyc/logs</code>"
            ]
          },
          "metadata": {}
        },
        {
          "output_type": "stream",
          "name": "stdout",
          "text": [
            "✅ Subject 10 — Acc: 1.0000, F1: 1.0000\n",
            "\n",
            "🔁 Testing on subject 9 (LOSO)\n"
          ]
        },
        {
          "output_type": "display_data",
          "data": {
            "text/plain": [
              "<IPython.core.display.HTML object>"
            ],
            "text/html": [
              "Tracking run with wandb version 0.21.0"
            ]
          },
          "metadata": {}
        },
        {
          "output_type": "display_data",
          "data": {
            "text/plain": [
              "<IPython.core.display.HTML object>"
            ],
            "text/html": [
              "Run data is saved locally in <code>/content/wandb/run-20250714_072527-b21545i9</code>"
            ]
          },
          "metadata": {}
        },
        {
          "output_type": "display_data",
          "data": {
            "text/plain": [
              "<IPython.core.display.HTML object>"
            ],
            "text/html": [
              "Syncing run <strong><a href='https://wandb.ai/rishitsaxena55-indian-institute-of-technology/wesad-loso/runs/b21545i9' target=\"_blank\">Subject_9</a></strong> to <a href='https://wandb.ai/rishitsaxena55-indian-institute-of-technology/wesad-loso' target=\"_blank\">Weights & Biases</a> (<a href='https://wandb.me/developer-guide' target=\"_blank\">docs</a>)<br>"
            ]
          },
          "metadata": {}
        },
        {
          "output_type": "display_data",
          "data": {
            "text/plain": [
              "<IPython.core.display.HTML object>"
            ],
            "text/html": [
              " View project at <a href='https://wandb.ai/rishitsaxena55-indian-institute-of-technology/wesad-loso' target=\"_blank\">https://wandb.ai/rishitsaxena55-indian-institute-of-technology/wesad-loso</a>"
            ]
          },
          "metadata": {}
        },
        {
          "output_type": "display_data",
          "data": {
            "text/plain": [
              "<IPython.core.display.HTML object>"
            ],
            "text/html": [
              " View run at <a href='https://wandb.ai/rishitsaxena55-indian-institute-of-technology/wesad-loso/runs/b21545i9' target=\"_blank\">https://wandb.ai/rishitsaxena55-indian-institute-of-technology/wesad-loso/runs/b21545i9</a>"
            ]
          },
          "metadata": {}
        },
        {
          "output_type": "stream",
          "name": "stdout",
          "text": [
            "Epoch 1/10\n",
            "Epoch 2/10\n",
            "Epoch 3/10\n",
            "Epoch 4/10\n",
            "Epoch 5/10\n",
            "Epoch 6/10\n",
            "Epoch 7/10\n",
            "Epoch 8/10\n",
            "Epoch 9/10\n",
            "Epoch 10/10\n"
          ]
        },
        {
          "output_type": "display_data",
          "data": {
            "text/plain": [
              "<IPython.core.display.HTML object>"
            ],
            "text/html": []
          },
          "metadata": {}
        },
        {
          "output_type": "display_data",
          "data": {
            "text/plain": [
              "<IPython.core.display.HTML object>"
            ],
            "text/html": [
              "<br>    <style><br>        .wandb-row {<br>            display: flex;<br>            flex-direction: row;<br>            flex-wrap: wrap;<br>            justify-content: flex-start;<br>            width: 100%;<br>        }<br>        .wandb-col {<br>            display: flex;<br>            flex-direction: column;<br>            flex-basis: 100%;<br>            flex: 1;<br>            padding: 10px;<br>        }<br>    </style><br><div class=\"wandb-row\"><div class=\"wandb-col\"><h3>Run history:</h3><br/><table class=\"wandb\"><tr><td>epoch</td><td>▁▂▃▃▄▅▆▆▇█</td></tr><tr><td>lr</td><td>▁▁▁▁▁▁▁▁▁▁</td></tr><tr><td>train_loss</td><td>█▂▁▁▁▁▁▁▁▁</td></tr><tr><td>val_acc</td><td>▁▁▁▁▁▁▁▁▁▁</td></tr><tr><td>val_f1</td><td>▁▁▁▁▁▁▁▁▁▁</td></tr><tr><td>val_loss</td><td>▁▁▁▁▁▁▁▁▁▁</td></tr></table><br/></div><div class=\"wandb-col\"><h3>Run summary:</h3><br/><table class=\"wandb\"><tr><td>epoch</td><td>10</td></tr><tr><td>lr</td><td>0.001</td></tr><tr><td>train_loss</td><td>0.00021</td></tr><tr><td>val_acc</td><td>1</td></tr><tr><td>val_f1</td><td>1</td></tr><tr><td>val_loss</td><td>0</td></tr></table><br/></div></div>"
            ]
          },
          "metadata": {}
        },
        {
          "output_type": "display_data",
          "data": {
            "text/plain": [
              "<IPython.core.display.HTML object>"
            ],
            "text/html": [
              " View run <strong style=\"color:#cdcd00\">Subject_9</strong> at: <a href='https://wandb.ai/rishitsaxena55-indian-institute-of-technology/wesad-loso/runs/b21545i9' target=\"_blank\">https://wandb.ai/rishitsaxena55-indian-institute-of-technology/wesad-loso/runs/b21545i9</a><br> View project at: <a href='https://wandb.ai/rishitsaxena55-indian-institute-of-technology/wesad-loso' target=\"_blank\">https://wandb.ai/rishitsaxena55-indian-institute-of-technology/wesad-loso</a><br>Synced 5 W&B file(s), 0 media file(s), 0 artifact file(s) and 0 other file(s)"
            ]
          },
          "metadata": {}
        },
        {
          "output_type": "display_data",
          "data": {
            "text/plain": [
              "<IPython.core.display.HTML object>"
            ],
            "text/html": [
              "Find logs at: <code>./wandb/run-20250714_072527-b21545i9/logs</code>"
            ]
          },
          "metadata": {}
        },
        {
          "output_type": "stream",
          "name": "stdout",
          "text": [
            "✅ Subject 9 — Acc: 1.0000, F1: 1.0000\n",
            "\n",
            "🔁 Testing on subject 8 (LOSO)\n"
          ]
        },
        {
          "output_type": "display_data",
          "data": {
            "text/plain": [
              "<IPython.core.display.HTML object>"
            ],
            "text/html": [
              "Tracking run with wandb version 0.21.0"
            ]
          },
          "metadata": {}
        },
        {
          "output_type": "display_data",
          "data": {
            "text/plain": [
              "<IPython.core.display.HTML object>"
            ],
            "text/html": [
              "Run data is saved locally in <code>/content/wandb/run-20250714_072611-usjwowko</code>"
            ]
          },
          "metadata": {}
        },
        {
          "output_type": "display_data",
          "data": {
            "text/plain": [
              "<IPython.core.display.HTML object>"
            ],
            "text/html": [
              "Syncing run <strong><a href='https://wandb.ai/rishitsaxena55-indian-institute-of-technology/wesad-loso/runs/usjwowko' target=\"_blank\">Subject_8</a></strong> to <a href='https://wandb.ai/rishitsaxena55-indian-institute-of-technology/wesad-loso' target=\"_blank\">Weights & Biases</a> (<a href='https://wandb.me/developer-guide' target=\"_blank\">docs</a>)<br>"
            ]
          },
          "metadata": {}
        },
        {
          "output_type": "display_data",
          "data": {
            "text/plain": [
              "<IPython.core.display.HTML object>"
            ],
            "text/html": [
              " View project at <a href='https://wandb.ai/rishitsaxena55-indian-institute-of-technology/wesad-loso' target=\"_blank\">https://wandb.ai/rishitsaxena55-indian-institute-of-technology/wesad-loso</a>"
            ]
          },
          "metadata": {}
        },
        {
          "output_type": "display_data",
          "data": {
            "text/plain": [
              "<IPython.core.display.HTML object>"
            ],
            "text/html": [
              " View run at <a href='https://wandb.ai/rishitsaxena55-indian-institute-of-technology/wesad-loso/runs/usjwowko' target=\"_blank\">https://wandb.ai/rishitsaxena55-indian-institute-of-technology/wesad-loso/runs/usjwowko</a>"
            ]
          },
          "metadata": {}
        },
        {
          "output_type": "stream",
          "name": "stdout",
          "text": [
            "Epoch 1/10\n",
            "Epoch 2/10\n",
            "Epoch 3/10\n",
            "Epoch 4/10\n",
            "Epoch 5/10\n",
            "Epoch 6/10\n",
            "Epoch 7/10\n",
            "Epoch 8/10\n",
            "Epoch 9/10\n",
            "Epoch 10/10\n"
          ]
        },
        {
          "output_type": "display_data",
          "data": {
            "text/plain": [
              "<IPython.core.display.HTML object>"
            ],
            "text/html": []
          },
          "metadata": {}
        },
        {
          "output_type": "display_data",
          "data": {
            "text/plain": [
              "<IPython.core.display.HTML object>"
            ],
            "text/html": [
              "<br>    <style><br>        .wandb-row {<br>            display: flex;<br>            flex-direction: row;<br>            flex-wrap: wrap;<br>            justify-content: flex-start;<br>            width: 100%;<br>        }<br>        .wandb-col {<br>            display: flex;<br>            flex-direction: column;<br>            flex-basis: 100%;<br>            flex: 1;<br>            padding: 10px;<br>        }<br>    </style><br><div class=\"wandb-row\"><div class=\"wandb-col\"><h3>Run history:</h3><br/><table class=\"wandb\"><tr><td>epoch</td><td>▁▂▃▃▄▅▆▆▇█</td></tr><tr><td>lr</td><td>▁▁▁▁▁▁▁▁▁▁</td></tr><tr><td>train_loss</td><td>█▃▁▁▁▁▁▁▁▁</td></tr><tr><td>val_acc</td><td>▁▁▁▁▁▁▁▁▁▁</td></tr><tr><td>val_f1</td><td>▁▁▁▁▁▁▁▁▁▁</td></tr><tr><td>val_loss</td><td>▁▁▁▁▁▁▁▁▁▁</td></tr></table><br/></div><div class=\"wandb-col\"><h3>Run summary:</h3><br/><table class=\"wandb\"><tr><td>epoch</td><td>10</td></tr><tr><td>lr</td><td>0.001</td></tr><tr><td>train_loss</td><td>0.0008</td></tr><tr><td>val_acc</td><td>1</td></tr><tr><td>val_f1</td><td>1</td></tr><tr><td>val_loss</td><td>0</td></tr></table><br/></div></div>"
            ]
          },
          "metadata": {}
        },
        {
          "output_type": "display_data",
          "data": {
            "text/plain": [
              "<IPython.core.display.HTML object>"
            ],
            "text/html": [
              " View run <strong style=\"color:#cdcd00\">Subject_8</strong> at: <a href='https://wandb.ai/rishitsaxena55-indian-institute-of-technology/wesad-loso/runs/usjwowko' target=\"_blank\">https://wandb.ai/rishitsaxena55-indian-institute-of-technology/wesad-loso/runs/usjwowko</a><br> View project at: <a href='https://wandb.ai/rishitsaxena55-indian-institute-of-technology/wesad-loso' target=\"_blank\">https://wandb.ai/rishitsaxena55-indian-institute-of-technology/wesad-loso</a><br>Synced 5 W&B file(s), 0 media file(s), 0 artifact file(s) and 0 other file(s)"
            ]
          },
          "metadata": {}
        },
        {
          "output_type": "display_data",
          "data": {
            "text/plain": [
              "<IPython.core.display.HTML object>"
            ],
            "text/html": [
              "Find logs at: <code>./wandb/run-20250714_072611-usjwowko/logs</code>"
            ]
          },
          "metadata": {}
        },
        {
          "output_type": "stream",
          "name": "stdout",
          "text": [
            "✅ Subject 8 — Acc: 1.0000, F1: 1.0000\n",
            "\n",
            "🔁 Testing on subject 14 (LOSO)\n"
          ]
        },
        {
          "output_type": "display_data",
          "data": {
            "text/plain": [
              "<IPython.core.display.HTML object>"
            ],
            "text/html": [
              "Tracking run with wandb version 0.21.0"
            ]
          },
          "metadata": {}
        },
        {
          "output_type": "display_data",
          "data": {
            "text/plain": [
              "<IPython.core.display.HTML object>"
            ],
            "text/html": [
              "Run data is saved locally in <code>/content/wandb/run-20250714_072652-moiax20k</code>"
            ]
          },
          "metadata": {}
        },
        {
          "output_type": "display_data",
          "data": {
            "text/plain": [
              "<IPython.core.display.HTML object>"
            ],
            "text/html": [
              "Syncing run <strong><a href='https://wandb.ai/rishitsaxena55-indian-institute-of-technology/wesad-loso/runs/moiax20k' target=\"_blank\">Subject_14</a></strong> to <a href='https://wandb.ai/rishitsaxena55-indian-institute-of-technology/wesad-loso' target=\"_blank\">Weights & Biases</a> (<a href='https://wandb.me/developer-guide' target=\"_blank\">docs</a>)<br>"
            ]
          },
          "metadata": {}
        },
        {
          "output_type": "display_data",
          "data": {
            "text/plain": [
              "<IPython.core.display.HTML object>"
            ],
            "text/html": [
              " View project at <a href='https://wandb.ai/rishitsaxena55-indian-institute-of-technology/wesad-loso' target=\"_blank\">https://wandb.ai/rishitsaxena55-indian-institute-of-technology/wesad-loso</a>"
            ]
          },
          "metadata": {}
        },
        {
          "output_type": "display_data",
          "data": {
            "text/plain": [
              "<IPython.core.display.HTML object>"
            ],
            "text/html": [
              " View run at <a href='https://wandb.ai/rishitsaxena55-indian-institute-of-technology/wesad-loso/runs/moiax20k' target=\"_blank\">https://wandb.ai/rishitsaxena55-indian-institute-of-technology/wesad-loso/runs/moiax20k</a>"
            ]
          },
          "metadata": {}
        },
        {
          "output_type": "stream",
          "name": "stdout",
          "text": [
            "Epoch 1/10\n",
            "Epoch 2/10\n",
            "Epoch 3/10\n",
            "Epoch 4/10\n",
            "Epoch 5/10\n",
            "Epoch 6/10\n",
            "Epoch 7/10\n",
            "Epoch 8/10\n",
            "Epoch 9/10\n",
            "Epoch 10/10\n"
          ]
        },
        {
          "output_type": "display_data",
          "data": {
            "text/plain": [
              "<IPython.core.display.HTML object>"
            ],
            "text/html": []
          },
          "metadata": {}
        },
        {
          "output_type": "display_data",
          "data": {
            "text/plain": [
              "<IPython.core.display.HTML object>"
            ],
            "text/html": [
              "<br>    <style><br>        .wandb-row {<br>            display: flex;<br>            flex-direction: row;<br>            flex-wrap: wrap;<br>            justify-content: flex-start;<br>            width: 100%;<br>        }<br>        .wandb-col {<br>            display: flex;<br>            flex-direction: column;<br>            flex-basis: 100%;<br>            flex: 1;<br>            padding: 10px;<br>        }<br>    </style><br><div class=\"wandb-row\"><div class=\"wandb-col\"><h3>Run history:</h3><br/><table class=\"wandb\"><tr><td>epoch</td><td>▁▂▃▃▄▅▆▆▇█</td></tr><tr><td>lr</td><td>▁▁▁▁▁▁▁▁▁▁</td></tr><tr><td>train_loss</td><td>█▂▁▁▁▁▁▁▁▁</td></tr><tr><td>val_acc</td><td>▁▁▁▁▁▁▁▁▁▁</td></tr><tr><td>val_f1</td><td>▁▁▁▁▁▁▁▁▁▁</td></tr><tr><td>val_loss</td><td>▁▁▁▁▁▁▁▁▁▁</td></tr></table><br/></div><div class=\"wandb-col\"><h3>Run summary:</h3><br/><table class=\"wandb\"><tr><td>epoch</td><td>10</td></tr><tr><td>lr</td><td>0.001</td></tr><tr><td>train_loss</td><td>0.00082</td></tr><tr><td>val_acc</td><td>1</td></tr><tr><td>val_f1</td><td>1</td></tr><tr><td>val_loss</td><td>0</td></tr></table><br/></div></div>"
            ]
          },
          "metadata": {}
        },
        {
          "output_type": "display_data",
          "data": {
            "text/plain": [
              "<IPython.core.display.HTML object>"
            ],
            "text/html": [
              " View run <strong style=\"color:#cdcd00\">Subject_14</strong> at: <a href='https://wandb.ai/rishitsaxena55-indian-institute-of-technology/wesad-loso/runs/moiax20k' target=\"_blank\">https://wandb.ai/rishitsaxena55-indian-institute-of-technology/wesad-loso/runs/moiax20k</a><br> View project at: <a href='https://wandb.ai/rishitsaxena55-indian-institute-of-technology/wesad-loso' target=\"_blank\">https://wandb.ai/rishitsaxena55-indian-institute-of-technology/wesad-loso</a><br>Synced 5 W&B file(s), 0 media file(s), 0 artifact file(s) and 0 other file(s)"
            ]
          },
          "metadata": {}
        },
        {
          "output_type": "display_data",
          "data": {
            "text/plain": [
              "<IPython.core.display.HTML object>"
            ],
            "text/html": [
              "Find logs at: <code>./wandb/run-20250714_072652-moiax20k/logs</code>"
            ]
          },
          "metadata": {}
        },
        {
          "output_type": "stream",
          "name": "stdout",
          "text": [
            "✅ Subject 14 — Acc: 1.0000, F1: 1.0000\n",
            "\n",
            "🔁 Testing on subject 11 (LOSO)\n"
          ]
        },
        {
          "output_type": "display_data",
          "data": {
            "text/plain": [
              "<IPython.core.display.HTML object>"
            ],
            "text/html": [
              "Tracking run with wandb version 0.21.0"
            ]
          },
          "metadata": {}
        },
        {
          "output_type": "display_data",
          "data": {
            "text/plain": [
              "<IPython.core.display.HTML object>"
            ],
            "text/html": [
              "Run data is saved locally in <code>/content/wandb/run-20250714_072734-mczpok2z</code>"
            ]
          },
          "metadata": {}
        },
        {
          "output_type": "display_data",
          "data": {
            "text/plain": [
              "<IPython.core.display.HTML object>"
            ],
            "text/html": [
              "Syncing run <strong><a href='https://wandb.ai/rishitsaxena55-indian-institute-of-technology/wesad-loso/runs/mczpok2z' target=\"_blank\">Subject_11</a></strong> to <a href='https://wandb.ai/rishitsaxena55-indian-institute-of-technology/wesad-loso' target=\"_blank\">Weights & Biases</a> (<a href='https://wandb.me/developer-guide' target=\"_blank\">docs</a>)<br>"
            ]
          },
          "metadata": {}
        },
        {
          "output_type": "display_data",
          "data": {
            "text/plain": [
              "<IPython.core.display.HTML object>"
            ],
            "text/html": [
              " View project at <a href='https://wandb.ai/rishitsaxena55-indian-institute-of-technology/wesad-loso' target=\"_blank\">https://wandb.ai/rishitsaxena55-indian-institute-of-technology/wesad-loso</a>"
            ]
          },
          "metadata": {}
        },
        {
          "output_type": "display_data",
          "data": {
            "text/plain": [
              "<IPython.core.display.HTML object>"
            ],
            "text/html": [
              " View run at <a href='https://wandb.ai/rishitsaxena55-indian-institute-of-technology/wesad-loso/runs/mczpok2z' target=\"_blank\">https://wandb.ai/rishitsaxena55-indian-institute-of-technology/wesad-loso/runs/mczpok2z</a>"
            ]
          },
          "metadata": {}
        },
        {
          "output_type": "stream",
          "name": "stdout",
          "text": [
            "Epoch 1/10\n",
            "Epoch 2/10\n",
            "Epoch 3/10\n",
            "Epoch 4/10\n",
            "Epoch 5/10\n",
            "Epoch 6/10\n",
            "Epoch 7/10\n",
            "Epoch 8/10\n",
            "Epoch 9/10\n",
            "Epoch 10/10\n"
          ]
        },
        {
          "output_type": "display_data",
          "data": {
            "text/plain": [
              "<IPython.core.display.HTML object>"
            ],
            "text/html": []
          },
          "metadata": {}
        },
        {
          "output_type": "display_data",
          "data": {
            "text/plain": [
              "<IPython.core.display.HTML object>"
            ],
            "text/html": [
              "<br>    <style><br>        .wandb-row {<br>            display: flex;<br>            flex-direction: row;<br>            flex-wrap: wrap;<br>            justify-content: flex-start;<br>            width: 100%;<br>        }<br>        .wandb-col {<br>            display: flex;<br>            flex-direction: column;<br>            flex-basis: 100%;<br>            flex: 1;<br>            padding: 10px;<br>        }<br>    </style><br><div class=\"wandb-row\"><div class=\"wandb-col\"><h3>Run history:</h3><br/><table class=\"wandb\"><tr><td>epoch</td><td>▁▂▃▃▄▅▆▆▇█</td></tr><tr><td>lr</td><td>▁▁▁▁▁▁▁▁▁▁</td></tr><tr><td>train_loss</td><td>█▂▁▁▁▁▁▁▁▁</td></tr><tr><td>val_acc</td><td>▁▁▁▁▁▁▁▁▁▁</td></tr><tr><td>val_f1</td><td>▁▁▁▁▁▁▁▁▁▁</td></tr><tr><td>val_loss</td><td>▁▁▁▁▁▁▁▁▁▁</td></tr></table><br/></div><div class=\"wandb-col\"><h3>Run summary:</h3><br/><table class=\"wandb\"><tr><td>epoch</td><td>10</td></tr><tr><td>lr</td><td>0.001</td></tr><tr><td>train_loss</td><td>0.00056</td></tr><tr><td>val_acc</td><td>1</td></tr><tr><td>val_f1</td><td>1</td></tr><tr><td>val_loss</td><td>0</td></tr></table><br/></div></div>"
            ]
          },
          "metadata": {}
        },
        {
          "output_type": "display_data",
          "data": {
            "text/plain": [
              "<IPython.core.display.HTML object>"
            ],
            "text/html": [
              " View run <strong style=\"color:#cdcd00\">Subject_11</strong> at: <a href='https://wandb.ai/rishitsaxena55-indian-institute-of-technology/wesad-loso/runs/mczpok2z' target=\"_blank\">https://wandb.ai/rishitsaxena55-indian-institute-of-technology/wesad-loso/runs/mczpok2z</a><br> View project at: <a href='https://wandb.ai/rishitsaxena55-indian-institute-of-technology/wesad-loso' target=\"_blank\">https://wandb.ai/rishitsaxena55-indian-institute-of-technology/wesad-loso</a><br>Synced 5 W&B file(s), 0 media file(s), 0 artifact file(s) and 0 other file(s)"
            ]
          },
          "metadata": {}
        },
        {
          "output_type": "display_data",
          "data": {
            "text/plain": [
              "<IPython.core.display.HTML object>"
            ],
            "text/html": [
              "Find logs at: <code>./wandb/run-20250714_072734-mczpok2z/logs</code>"
            ]
          },
          "metadata": {}
        },
        {
          "output_type": "stream",
          "name": "stdout",
          "text": [
            "✅ Subject 11 — Acc: 1.0000, F1: 1.0000\n",
            "\n",
            "🔁 Testing on subject 16 (LOSO)\n"
          ]
        },
        {
          "output_type": "display_data",
          "data": {
            "text/plain": [
              "<IPython.core.display.HTML object>"
            ],
            "text/html": [
              "Tracking run with wandb version 0.21.0"
            ]
          },
          "metadata": {}
        },
        {
          "output_type": "display_data",
          "data": {
            "text/plain": [
              "<IPython.core.display.HTML object>"
            ],
            "text/html": [
              "Run data is saved locally in <code>/content/wandb/run-20250714_072816-seb2370z</code>"
            ]
          },
          "metadata": {}
        },
        {
          "output_type": "display_data",
          "data": {
            "text/plain": [
              "<IPython.core.display.HTML object>"
            ],
            "text/html": [
              "Syncing run <strong><a href='https://wandb.ai/rishitsaxena55-indian-institute-of-technology/wesad-loso/runs/seb2370z' target=\"_blank\">Subject_16</a></strong> to <a href='https://wandb.ai/rishitsaxena55-indian-institute-of-technology/wesad-loso' target=\"_blank\">Weights & Biases</a> (<a href='https://wandb.me/developer-guide' target=\"_blank\">docs</a>)<br>"
            ]
          },
          "metadata": {}
        },
        {
          "output_type": "display_data",
          "data": {
            "text/plain": [
              "<IPython.core.display.HTML object>"
            ],
            "text/html": [
              " View project at <a href='https://wandb.ai/rishitsaxena55-indian-institute-of-technology/wesad-loso' target=\"_blank\">https://wandb.ai/rishitsaxena55-indian-institute-of-technology/wesad-loso</a>"
            ]
          },
          "metadata": {}
        },
        {
          "output_type": "display_data",
          "data": {
            "text/plain": [
              "<IPython.core.display.HTML object>"
            ],
            "text/html": [
              " View run at <a href='https://wandb.ai/rishitsaxena55-indian-institute-of-technology/wesad-loso/runs/seb2370z' target=\"_blank\">https://wandb.ai/rishitsaxena55-indian-institute-of-technology/wesad-loso/runs/seb2370z</a>"
            ]
          },
          "metadata": {}
        },
        {
          "output_type": "stream",
          "name": "stdout",
          "text": [
            "Epoch 1/10\n",
            "Epoch 2/10\n",
            "Epoch 3/10\n",
            "Epoch 4/10\n",
            "Epoch 5/10\n",
            "Epoch 6/10\n",
            "Epoch 7/10\n",
            "Epoch 8/10\n",
            "Epoch 9/10\n",
            "Epoch 10/10\n"
          ]
        },
        {
          "output_type": "display_data",
          "data": {
            "text/plain": [
              "<IPython.core.display.HTML object>"
            ],
            "text/html": []
          },
          "metadata": {}
        },
        {
          "output_type": "display_data",
          "data": {
            "text/plain": [
              "<IPython.core.display.HTML object>"
            ],
            "text/html": [
              "<br>    <style><br>        .wandb-row {<br>            display: flex;<br>            flex-direction: row;<br>            flex-wrap: wrap;<br>            justify-content: flex-start;<br>            width: 100%;<br>        }<br>        .wandb-col {<br>            display: flex;<br>            flex-direction: column;<br>            flex-basis: 100%;<br>            flex: 1;<br>            padding: 10px;<br>        }<br>    </style><br><div class=\"wandb-row\"><div class=\"wandb-col\"><h3>Run history:</h3><br/><table class=\"wandb\"><tr><td>epoch</td><td>▁▂▃▃▄▅▆▆▇█</td></tr><tr><td>lr</td><td>▁▁▁▁▁▁▁▁▁▁</td></tr><tr><td>train_loss</td><td>█▂▁▁▁▁▁▁▁▁</td></tr><tr><td>val_acc</td><td>▁▁▁▁▁▁▁▁▁▁</td></tr><tr><td>val_f1</td><td>▁▁▁▁▁▁▁▁▁▁</td></tr><tr><td>val_loss</td><td>▁▁▁▁▁▁▁▁▁▁</td></tr></table><br/></div><div class=\"wandb-col\"><h3>Run summary:</h3><br/><table class=\"wandb\"><tr><td>epoch</td><td>10</td></tr><tr><td>lr</td><td>0.001</td></tr><tr><td>train_loss</td><td>0.00491</td></tr><tr><td>val_acc</td><td>1</td></tr><tr><td>val_f1</td><td>1</td></tr><tr><td>val_loss</td><td>0</td></tr></table><br/></div></div>"
            ]
          },
          "metadata": {}
        },
        {
          "output_type": "display_data",
          "data": {
            "text/plain": [
              "<IPython.core.display.HTML object>"
            ],
            "text/html": [
              " View run <strong style=\"color:#cdcd00\">Subject_16</strong> at: <a href='https://wandb.ai/rishitsaxena55-indian-institute-of-technology/wesad-loso/runs/seb2370z' target=\"_blank\">https://wandb.ai/rishitsaxena55-indian-institute-of-technology/wesad-loso/runs/seb2370z</a><br> View project at: <a href='https://wandb.ai/rishitsaxena55-indian-institute-of-technology/wesad-loso' target=\"_blank\">https://wandb.ai/rishitsaxena55-indian-institute-of-technology/wesad-loso</a><br>Synced 5 W&B file(s), 0 media file(s), 0 artifact file(s) and 0 other file(s)"
            ]
          },
          "metadata": {}
        },
        {
          "output_type": "display_data",
          "data": {
            "text/plain": [
              "<IPython.core.display.HTML object>"
            ],
            "text/html": [
              "Find logs at: <code>./wandb/run-20250714_072816-seb2370z/logs</code>"
            ]
          },
          "metadata": {}
        },
        {
          "output_type": "stream",
          "name": "stdout",
          "text": [
            "✅ Subject 16 — Acc: 1.0000, F1: 1.0000\n",
            "\n",
            "🔁 Testing on subject 6 (LOSO)\n"
          ]
        },
        {
          "output_type": "display_data",
          "data": {
            "text/plain": [
              "<IPython.core.display.HTML object>"
            ],
            "text/html": [
              "Tracking run with wandb version 0.21.0"
            ]
          },
          "metadata": {}
        },
        {
          "output_type": "display_data",
          "data": {
            "text/plain": [
              "<IPython.core.display.HTML object>"
            ],
            "text/html": [
              "Run data is saved locally in <code>/content/wandb/run-20250714_072857-5vpo9civ</code>"
            ]
          },
          "metadata": {}
        },
        {
          "output_type": "display_data",
          "data": {
            "text/plain": [
              "<IPython.core.display.HTML object>"
            ],
            "text/html": [
              "Syncing run <strong><a href='https://wandb.ai/rishitsaxena55-indian-institute-of-technology/wesad-loso/runs/5vpo9civ' target=\"_blank\">Subject_6</a></strong> to <a href='https://wandb.ai/rishitsaxena55-indian-institute-of-technology/wesad-loso' target=\"_blank\">Weights & Biases</a> (<a href='https://wandb.me/developer-guide' target=\"_blank\">docs</a>)<br>"
            ]
          },
          "metadata": {}
        },
        {
          "output_type": "display_data",
          "data": {
            "text/plain": [
              "<IPython.core.display.HTML object>"
            ],
            "text/html": [
              " View project at <a href='https://wandb.ai/rishitsaxena55-indian-institute-of-technology/wesad-loso' target=\"_blank\">https://wandb.ai/rishitsaxena55-indian-institute-of-technology/wesad-loso</a>"
            ]
          },
          "metadata": {}
        },
        {
          "output_type": "display_data",
          "data": {
            "text/plain": [
              "<IPython.core.display.HTML object>"
            ],
            "text/html": [
              " View run at <a href='https://wandb.ai/rishitsaxena55-indian-institute-of-technology/wesad-loso/runs/5vpo9civ' target=\"_blank\">https://wandb.ai/rishitsaxena55-indian-institute-of-technology/wesad-loso/runs/5vpo9civ</a>"
            ]
          },
          "metadata": {}
        },
        {
          "output_type": "stream",
          "name": "stdout",
          "text": [
            "Epoch 1/10\n",
            "Epoch 2/10\n",
            "Epoch 3/10\n",
            "Epoch 4/10\n",
            "Epoch 5/10\n",
            "Epoch 6/10\n",
            "Epoch 7/10\n",
            "Epoch 8/10\n",
            "Epoch 9/10\n",
            "Epoch 10/10\n"
          ]
        },
        {
          "output_type": "display_data",
          "data": {
            "text/plain": [
              "<IPython.core.display.HTML object>"
            ],
            "text/html": []
          },
          "metadata": {}
        },
        {
          "output_type": "display_data",
          "data": {
            "text/plain": [
              "<IPython.core.display.HTML object>"
            ],
            "text/html": [
              "<br>    <style><br>        .wandb-row {<br>            display: flex;<br>            flex-direction: row;<br>            flex-wrap: wrap;<br>            justify-content: flex-start;<br>            width: 100%;<br>        }<br>        .wandb-col {<br>            display: flex;<br>            flex-direction: column;<br>            flex-basis: 100%;<br>            flex: 1;<br>            padding: 10px;<br>        }<br>    </style><br><div class=\"wandb-row\"><div class=\"wandb-col\"><h3>Run history:</h3><br/><table class=\"wandb\"><tr><td>epoch</td><td>▁▂▃▃▄▅▆▆▇█</td></tr><tr><td>lr</td><td>▁▁▁▁▁▁▁▁▁▁</td></tr><tr><td>train_loss</td><td>█▁▁▁▁▁▁▁▁▁</td></tr><tr><td>val_acc</td><td>▁▁▁▁▁▁▁▁▁▁</td></tr><tr><td>val_f1</td><td>▁▁▁▁▁▁▁▁▁▁</td></tr><tr><td>val_loss</td><td>▁▁▁▁▁▁▁▁▁▁</td></tr></table><br/></div><div class=\"wandb-col\"><h3>Run summary:</h3><br/><table class=\"wandb\"><tr><td>epoch</td><td>10</td></tr><tr><td>lr</td><td>0.001</td></tr><tr><td>train_loss</td><td>0.00034</td></tr><tr><td>val_acc</td><td>1</td></tr><tr><td>val_f1</td><td>1</td></tr><tr><td>val_loss</td><td>0</td></tr></table><br/></div></div>"
            ]
          },
          "metadata": {}
        },
        {
          "output_type": "display_data",
          "data": {
            "text/plain": [
              "<IPython.core.display.HTML object>"
            ],
            "text/html": [
              " View run <strong style=\"color:#cdcd00\">Subject_6</strong> at: <a href='https://wandb.ai/rishitsaxena55-indian-institute-of-technology/wesad-loso/runs/5vpo9civ' target=\"_blank\">https://wandb.ai/rishitsaxena55-indian-institute-of-technology/wesad-loso/runs/5vpo9civ</a><br> View project at: <a href='https://wandb.ai/rishitsaxena55-indian-institute-of-technology/wesad-loso' target=\"_blank\">https://wandb.ai/rishitsaxena55-indian-institute-of-technology/wesad-loso</a><br>Synced 5 W&B file(s), 0 media file(s), 0 artifact file(s) and 0 other file(s)"
            ]
          },
          "metadata": {}
        },
        {
          "output_type": "display_data",
          "data": {
            "text/plain": [
              "<IPython.core.display.HTML object>"
            ],
            "text/html": [
              "Find logs at: <code>./wandb/run-20250714_072857-5vpo9civ/logs</code>"
            ]
          },
          "metadata": {}
        },
        {
          "output_type": "stream",
          "name": "stdout",
          "text": [
            "✅ Subject 6 — Acc: 1.0000, F1: 1.0000\n",
            "\n",
            "🔁 Testing on subject 17 (LOSO)\n"
          ]
        },
        {
          "output_type": "display_data",
          "data": {
            "text/plain": [
              "<IPython.core.display.HTML object>"
            ],
            "text/html": [
              "Tracking run with wandb version 0.21.0"
            ]
          },
          "metadata": {}
        },
        {
          "output_type": "display_data",
          "data": {
            "text/plain": [
              "<IPython.core.display.HTML object>"
            ],
            "text/html": [
              "Run data is saved locally in <code>/content/wandb/run-20250714_072938-bnr7zne8</code>"
            ]
          },
          "metadata": {}
        },
        {
          "output_type": "display_data",
          "data": {
            "text/plain": [
              "<IPython.core.display.HTML object>"
            ],
            "text/html": [
              "Syncing run <strong><a href='https://wandb.ai/rishitsaxena55-indian-institute-of-technology/wesad-loso/runs/bnr7zne8' target=\"_blank\">Subject_17</a></strong> to <a href='https://wandb.ai/rishitsaxena55-indian-institute-of-technology/wesad-loso' target=\"_blank\">Weights & Biases</a> (<a href='https://wandb.me/developer-guide' target=\"_blank\">docs</a>)<br>"
            ]
          },
          "metadata": {}
        },
        {
          "output_type": "display_data",
          "data": {
            "text/plain": [
              "<IPython.core.display.HTML object>"
            ],
            "text/html": [
              " View project at <a href='https://wandb.ai/rishitsaxena55-indian-institute-of-technology/wesad-loso' target=\"_blank\">https://wandb.ai/rishitsaxena55-indian-institute-of-technology/wesad-loso</a>"
            ]
          },
          "metadata": {}
        },
        {
          "output_type": "display_data",
          "data": {
            "text/plain": [
              "<IPython.core.display.HTML object>"
            ],
            "text/html": [
              " View run at <a href='https://wandb.ai/rishitsaxena55-indian-institute-of-technology/wesad-loso/runs/bnr7zne8' target=\"_blank\">https://wandb.ai/rishitsaxena55-indian-institute-of-technology/wesad-loso/runs/bnr7zne8</a>"
            ]
          },
          "metadata": {}
        },
        {
          "output_type": "stream",
          "name": "stdout",
          "text": [
            "Epoch 1/10\n",
            "Epoch 2/10\n",
            "Epoch 3/10\n",
            "Epoch 4/10\n",
            "Epoch 5/10\n",
            "Epoch 6/10\n",
            "Epoch 7/10\n",
            "Epoch 8/10\n",
            "Epoch 9/10\n",
            "Epoch 10/10\n"
          ]
        },
        {
          "output_type": "display_data",
          "data": {
            "text/plain": [
              "<IPython.core.display.HTML object>"
            ],
            "text/html": []
          },
          "metadata": {}
        },
        {
          "output_type": "display_data",
          "data": {
            "text/plain": [
              "<IPython.core.display.HTML object>"
            ],
            "text/html": [
              "<br>    <style><br>        .wandb-row {<br>            display: flex;<br>            flex-direction: row;<br>            flex-wrap: wrap;<br>            justify-content: flex-start;<br>            width: 100%;<br>        }<br>        .wandb-col {<br>            display: flex;<br>            flex-direction: column;<br>            flex-basis: 100%;<br>            flex: 1;<br>            padding: 10px;<br>        }<br>    </style><br><div class=\"wandb-row\"><div class=\"wandb-col\"><h3>Run history:</h3><br/><table class=\"wandb\"><tr><td>epoch</td><td>▁▂▃▃▄▅▆▆▇█</td></tr><tr><td>lr</td><td>▁▁▁▁▁▁▁▁▁▁</td></tr><tr><td>train_loss</td><td>█▂▁▁▁▁▁▁▁▁</td></tr><tr><td>val_acc</td><td>▁▁▁▁▁▁▁▁▁▁</td></tr><tr><td>val_f1</td><td>▁▁▁▁▁▁▁▁▁▁</td></tr><tr><td>val_loss</td><td>▁▁▁▁▁▁▁▁▁▁</td></tr></table><br/></div><div class=\"wandb-col\"><h3>Run summary:</h3><br/><table class=\"wandb\"><tr><td>epoch</td><td>10</td></tr><tr><td>lr</td><td>0.001</td></tr><tr><td>train_loss</td><td>7e-05</td></tr><tr><td>val_acc</td><td>1</td></tr><tr><td>val_f1</td><td>1</td></tr><tr><td>val_loss</td><td>0</td></tr></table><br/></div></div>"
            ]
          },
          "metadata": {}
        },
        {
          "output_type": "display_data",
          "data": {
            "text/plain": [
              "<IPython.core.display.HTML object>"
            ],
            "text/html": [
              " View run <strong style=\"color:#cdcd00\">Subject_17</strong> at: <a href='https://wandb.ai/rishitsaxena55-indian-institute-of-technology/wesad-loso/runs/bnr7zne8' target=\"_blank\">https://wandb.ai/rishitsaxena55-indian-institute-of-technology/wesad-loso/runs/bnr7zne8</a><br> View project at: <a href='https://wandb.ai/rishitsaxena55-indian-institute-of-technology/wesad-loso' target=\"_blank\">https://wandb.ai/rishitsaxena55-indian-institute-of-technology/wesad-loso</a><br>Synced 5 W&B file(s), 0 media file(s), 0 artifact file(s) and 0 other file(s)"
            ]
          },
          "metadata": {}
        },
        {
          "output_type": "display_data",
          "data": {
            "text/plain": [
              "<IPython.core.display.HTML object>"
            ],
            "text/html": [
              "Find logs at: <code>./wandb/run-20250714_072938-bnr7zne8/logs</code>"
            ]
          },
          "metadata": {}
        },
        {
          "output_type": "stream",
          "name": "stdout",
          "text": [
            "✅ Subject 17 — Acc: 1.0000, F1: 1.0000\n",
            "\n",
            "🔁 Testing on subject 5 (LOSO)\n"
          ]
        },
        {
          "output_type": "display_data",
          "data": {
            "text/plain": [
              "<IPython.core.display.HTML object>"
            ],
            "text/html": [
              "Tracking run with wandb version 0.21.0"
            ]
          },
          "metadata": {}
        },
        {
          "output_type": "display_data",
          "data": {
            "text/plain": [
              "<IPython.core.display.HTML object>"
            ],
            "text/html": [
              "Run data is saved locally in <code>/content/wandb/run-20250714_073019-owjbdmp2</code>"
            ]
          },
          "metadata": {}
        },
        {
          "output_type": "display_data",
          "data": {
            "text/plain": [
              "<IPython.core.display.HTML object>"
            ],
            "text/html": [
              "Syncing run <strong><a href='https://wandb.ai/rishitsaxena55-indian-institute-of-technology/wesad-loso/runs/owjbdmp2' target=\"_blank\">Subject_5</a></strong> to <a href='https://wandb.ai/rishitsaxena55-indian-institute-of-technology/wesad-loso' target=\"_blank\">Weights & Biases</a> (<a href='https://wandb.me/developer-guide' target=\"_blank\">docs</a>)<br>"
            ]
          },
          "metadata": {}
        },
        {
          "output_type": "display_data",
          "data": {
            "text/plain": [
              "<IPython.core.display.HTML object>"
            ],
            "text/html": [
              " View project at <a href='https://wandb.ai/rishitsaxena55-indian-institute-of-technology/wesad-loso' target=\"_blank\">https://wandb.ai/rishitsaxena55-indian-institute-of-technology/wesad-loso</a>"
            ]
          },
          "metadata": {}
        },
        {
          "output_type": "display_data",
          "data": {
            "text/plain": [
              "<IPython.core.display.HTML object>"
            ],
            "text/html": [
              " View run at <a href='https://wandb.ai/rishitsaxena55-indian-institute-of-technology/wesad-loso/runs/owjbdmp2' target=\"_blank\">https://wandb.ai/rishitsaxena55-indian-institute-of-technology/wesad-loso/runs/owjbdmp2</a>"
            ]
          },
          "metadata": {}
        },
        {
          "output_type": "stream",
          "name": "stdout",
          "text": [
            "Epoch 1/10\n",
            "Epoch 2/10\n",
            "Epoch 3/10\n",
            "Epoch 4/10\n",
            "Epoch 5/10\n",
            "Epoch 6/10\n",
            "Epoch 7/10\n",
            "Epoch 8/10\n",
            "Epoch 9/10\n",
            "Epoch 10/10\n"
          ]
        },
        {
          "output_type": "display_data",
          "data": {
            "text/plain": [
              "<IPython.core.display.HTML object>"
            ],
            "text/html": []
          },
          "metadata": {}
        },
        {
          "output_type": "display_data",
          "data": {
            "text/plain": [
              "<IPython.core.display.HTML object>"
            ],
            "text/html": [
              "<br>    <style><br>        .wandb-row {<br>            display: flex;<br>            flex-direction: row;<br>            flex-wrap: wrap;<br>            justify-content: flex-start;<br>            width: 100%;<br>        }<br>        .wandb-col {<br>            display: flex;<br>            flex-direction: column;<br>            flex-basis: 100%;<br>            flex: 1;<br>            padding: 10px;<br>        }<br>    </style><br><div class=\"wandb-row\"><div class=\"wandb-col\"><h3>Run history:</h3><br/><table class=\"wandb\"><tr><td>epoch</td><td>▁▂▃▃▄▅▆▆▇█</td></tr><tr><td>lr</td><td>▁▁▁▁▁▁▁▁▁▁</td></tr><tr><td>train_loss</td><td>█▂▁▁▁▁▁▁▁▁</td></tr><tr><td>val_acc</td><td>▁▁▁▁▁▁▁▁▁▁</td></tr><tr><td>val_f1</td><td>▁▁▁▁▁▁▁▁▁▁</td></tr><tr><td>val_loss</td><td>▁▁▁▁▁▁▁▁▁▁</td></tr></table><br/></div><div class=\"wandb-col\"><h3>Run summary:</h3><br/><table class=\"wandb\"><tr><td>epoch</td><td>10</td></tr><tr><td>lr</td><td>0.001</td></tr><tr><td>train_loss</td><td>0.00168</td></tr><tr><td>val_acc</td><td>1</td></tr><tr><td>val_f1</td><td>1</td></tr><tr><td>val_loss</td><td>0</td></tr></table><br/></div></div>"
            ]
          },
          "metadata": {}
        },
        {
          "output_type": "display_data",
          "data": {
            "text/plain": [
              "<IPython.core.display.HTML object>"
            ],
            "text/html": [
              " View run <strong style=\"color:#cdcd00\">Subject_5</strong> at: <a href='https://wandb.ai/rishitsaxena55-indian-institute-of-technology/wesad-loso/runs/owjbdmp2' target=\"_blank\">https://wandb.ai/rishitsaxena55-indian-institute-of-technology/wesad-loso/runs/owjbdmp2</a><br> View project at: <a href='https://wandb.ai/rishitsaxena55-indian-institute-of-technology/wesad-loso' target=\"_blank\">https://wandb.ai/rishitsaxena55-indian-institute-of-technology/wesad-loso</a><br>Synced 5 W&B file(s), 0 media file(s), 0 artifact file(s) and 0 other file(s)"
            ]
          },
          "metadata": {}
        },
        {
          "output_type": "display_data",
          "data": {
            "text/plain": [
              "<IPython.core.display.HTML object>"
            ],
            "text/html": [
              "Find logs at: <code>./wandb/run-20250714_073019-owjbdmp2/logs</code>"
            ]
          },
          "metadata": {}
        },
        {
          "output_type": "stream",
          "name": "stdout",
          "text": [
            "✅ Subject 5 — Acc: 1.0000, F1: 1.0000\n",
            "\n",
            "🔁 Testing on subject 3 (LOSO)\n"
          ]
        },
        {
          "output_type": "display_data",
          "data": {
            "text/plain": [
              "<IPython.core.display.HTML object>"
            ],
            "text/html": [
              "Tracking run with wandb version 0.21.0"
            ]
          },
          "metadata": {}
        },
        {
          "output_type": "display_data",
          "data": {
            "text/plain": [
              "<IPython.core.display.HTML object>"
            ],
            "text/html": [
              "Run data is saved locally in <code>/content/wandb/run-20250714_073059-ddx70cip</code>"
            ]
          },
          "metadata": {}
        },
        {
          "output_type": "display_data",
          "data": {
            "text/plain": [
              "<IPython.core.display.HTML object>"
            ],
            "text/html": [
              "Syncing run <strong><a href='https://wandb.ai/rishitsaxena55-indian-institute-of-technology/wesad-loso/runs/ddx70cip' target=\"_blank\">Subject_3</a></strong> to <a href='https://wandb.ai/rishitsaxena55-indian-institute-of-technology/wesad-loso' target=\"_blank\">Weights & Biases</a> (<a href='https://wandb.me/developer-guide' target=\"_blank\">docs</a>)<br>"
            ]
          },
          "metadata": {}
        },
        {
          "output_type": "display_data",
          "data": {
            "text/plain": [
              "<IPython.core.display.HTML object>"
            ],
            "text/html": [
              " View project at <a href='https://wandb.ai/rishitsaxena55-indian-institute-of-technology/wesad-loso' target=\"_blank\">https://wandb.ai/rishitsaxena55-indian-institute-of-technology/wesad-loso</a>"
            ]
          },
          "metadata": {}
        },
        {
          "output_type": "display_data",
          "data": {
            "text/plain": [
              "<IPython.core.display.HTML object>"
            ],
            "text/html": [
              " View run at <a href='https://wandb.ai/rishitsaxena55-indian-institute-of-technology/wesad-loso/runs/ddx70cip' target=\"_blank\">https://wandb.ai/rishitsaxena55-indian-institute-of-technology/wesad-loso/runs/ddx70cip</a>"
            ]
          },
          "metadata": {}
        },
        {
          "output_type": "stream",
          "name": "stdout",
          "text": [
            "Epoch 1/10\n",
            "Epoch 2/10\n",
            "Epoch 3/10\n",
            "Epoch 4/10\n",
            "Epoch 5/10\n",
            "Epoch 6/10\n",
            "Epoch 7/10\n",
            "Epoch 8/10\n",
            "Epoch 9/10\n",
            "Epoch 10/10\n"
          ]
        },
        {
          "output_type": "display_data",
          "data": {
            "text/plain": [
              "<IPython.core.display.HTML object>"
            ],
            "text/html": []
          },
          "metadata": {}
        },
        {
          "output_type": "display_data",
          "data": {
            "text/plain": [
              "<IPython.core.display.HTML object>"
            ],
            "text/html": [
              "<br>    <style><br>        .wandb-row {<br>            display: flex;<br>            flex-direction: row;<br>            flex-wrap: wrap;<br>            justify-content: flex-start;<br>            width: 100%;<br>        }<br>        .wandb-col {<br>            display: flex;<br>            flex-direction: column;<br>            flex-basis: 100%;<br>            flex: 1;<br>            padding: 10px;<br>        }<br>    </style><br><div class=\"wandb-row\"><div class=\"wandb-col\"><h3>Run history:</h3><br/><table class=\"wandb\"><tr><td>epoch</td><td>▁▂▃▃▄▅▆▆▇█</td></tr><tr><td>lr</td><td>▁▁▁▁▁▁▁▁▁▁</td></tr><tr><td>train_loss</td><td>█▂▁▁▁▁▁▁▁▁</td></tr><tr><td>val_acc</td><td>▁▁▁▁▁▁▁▁▁▁</td></tr><tr><td>val_f1</td><td>▁▁▁▁▁▁▁▁▁▁</td></tr><tr><td>val_loss</td><td>▁▁▁▁▁▁▁▁▁▁</td></tr></table><br/></div><div class=\"wandb-col\"><h3>Run summary:</h3><br/><table class=\"wandb\"><tr><td>epoch</td><td>10</td></tr><tr><td>lr</td><td>0.001</td></tr><tr><td>train_loss</td><td>0.00021</td></tr><tr><td>val_acc</td><td>1</td></tr><tr><td>val_f1</td><td>1</td></tr><tr><td>val_loss</td><td>0</td></tr></table><br/></div></div>"
            ]
          },
          "metadata": {}
        },
        {
          "output_type": "display_data",
          "data": {
            "text/plain": [
              "<IPython.core.display.HTML object>"
            ],
            "text/html": [
              " View run <strong style=\"color:#cdcd00\">Subject_3</strong> at: <a href='https://wandb.ai/rishitsaxena55-indian-institute-of-technology/wesad-loso/runs/ddx70cip' target=\"_blank\">https://wandb.ai/rishitsaxena55-indian-institute-of-technology/wesad-loso/runs/ddx70cip</a><br> View project at: <a href='https://wandb.ai/rishitsaxena55-indian-institute-of-technology/wesad-loso' target=\"_blank\">https://wandb.ai/rishitsaxena55-indian-institute-of-technology/wesad-loso</a><br>Synced 5 W&B file(s), 0 media file(s), 0 artifact file(s) and 0 other file(s)"
            ]
          },
          "metadata": {}
        },
        {
          "output_type": "display_data",
          "data": {
            "text/plain": [
              "<IPython.core.display.HTML object>"
            ],
            "text/html": [
              "Find logs at: <code>./wandb/run-20250714_073059-ddx70cip/logs</code>"
            ]
          },
          "metadata": {}
        },
        {
          "output_type": "stream",
          "name": "stdout",
          "text": [
            "✅ Subject 3 — Acc: 1.0000, F1: 1.0000\n",
            "\n",
            "🔁 Testing on subject 13 (LOSO)\n"
          ]
        },
        {
          "output_type": "display_data",
          "data": {
            "text/plain": [
              "<IPython.core.display.HTML object>"
            ],
            "text/html": [
              "Tracking run with wandb version 0.21.0"
            ]
          },
          "metadata": {}
        },
        {
          "output_type": "display_data",
          "data": {
            "text/plain": [
              "<IPython.core.display.HTML object>"
            ],
            "text/html": [
              "Run data is saved locally in <code>/content/wandb/run-20250714_073139-5o0fpjwb</code>"
            ]
          },
          "metadata": {}
        },
        {
          "output_type": "display_data",
          "data": {
            "text/plain": [
              "<IPython.core.display.HTML object>"
            ],
            "text/html": [
              "Syncing run <strong><a href='https://wandb.ai/rishitsaxena55-indian-institute-of-technology/wesad-loso/runs/5o0fpjwb' target=\"_blank\">Subject_13</a></strong> to <a href='https://wandb.ai/rishitsaxena55-indian-institute-of-technology/wesad-loso' target=\"_blank\">Weights & Biases</a> (<a href='https://wandb.me/developer-guide' target=\"_blank\">docs</a>)<br>"
            ]
          },
          "metadata": {}
        },
        {
          "output_type": "display_data",
          "data": {
            "text/plain": [
              "<IPython.core.display.HTML object>"
            ],
            "text/html": [
              " View project at <a href='https://wandb.ai/rishitsaxena55-indian-institute-of-technology/wesad-loso' target=\"_blank\">https://wandb.ai/rishitsaxena55-indian-institute-of-technology/wesad-loso</a>"
            ]
          },
          "metadata": {}
        },
        {
          "output_type": "display_data",
          "data": {
            "text/plain": [
              "<IPython.core.display.HTML object>"
            ],
            "text/html": [
              " View run at <a href='https://wandb.ai/rishitsaxena55-indian-institute-of-technology/wesad-loso/runs/5o0fpjwb' target=\"_blank\">https://wandb.ai/rishitsaxena55-indian-institute-of-technology/wesad-loso/runs/5o0fpjwb</a>"
            ]
          },
          "metadata": {}
        },
        {
          "output_type": "stream",
          "name": "stdout",
          "text": [
            "Epoch 1/10\n",
            "Epoch 2/10\n",
            "Epoch 3/10\n",
            "Epoch 4/10\n",
            "Epoch 5/10\n",
            "Epoch 6/10\n",
            "Epoch 7/10\n",
            "Epoch 8/10\n",
            "Epoch 9/10\n",
            "Epoch 10/10\n"
          ]
        },
        {
          "output_type": "display_data",
          "data": {
            "text/plain": [
              "<IPython.core.display.HTML object>"
            ],
            "text/html": []
          },
          "metadata": {}
        },
        {
          "output_type": "display_data",
          "data": {
            "text/plain": [
              "<IPython.core.display.HTML object>"
            ],
            "text/html": [
              "<br>    <style><br>        .wandb-row {<br>            display: flex;<br>            flex-direction: row;<br>            flex-wrap: wrap;<br>            justify-content: flex-start;<br>            width: 100%;<br>        }<br>        .wandb-col {<br>            display: flex;<br>            flex-direction: column;<br>            flex-basis: 100%;<br>            flex: 1;<br>            padding: 10px;<br>        }<br>    </style><br><div class=\"wandb-row\"><div class=\"wandb-col\"><h3>Run history:</h3><br/><table class=\"wandb\"><tr><td>epoch</td><td>▁▂▃▃▄▅▆▆▇█</td></tr><tr><td>lr</td><td>▁▁▁▁▁▁▁▁▁▁</td></tr><tr><td>train_loss</td><td>█▂▁▁▁▁▁▁▁▁</td></tr><tr><td>val_acc</td><td>▁▁▁▁▁▁▁▁▁▁</td></tr><tr><td>val_f1</td><td>▁▁▁▁▁▁▁▁▁▁</td></tr><tr><td>val_loss</td><td>▁▁▁▁▁▁▁▁▁▁</td></tr></table><br/></div><div class=\"wandb-col\"><h3>Run summary:</h3><br/><table class=\"wandb\"><tr><td>epoch</td><td>10</td></tr><tr><td>lr</td><td>0.001</td></tr><tr><td>train_loss</td><td>0.00038</td></tr><tr><td>val_acc</td><td>1</td></tr><tr><td>val_f1</td><td>1</td></tr><tr><td>val_loss</td><td>0</td></tr></table><br/></div></div>"
            ]
          },
          "metadata": {}
        },
        {
          "output_type": "display_data",
          "data": {
            "text/plain": [
              "<IPython.core.display.HTML object>"
            ],
            "text/html": [
              " View run <strong style=\"color:#cdcd00\">Subject_13</strong> at: <a href='https://wandb.ai/rishitsaxena55-indian-institute-of-technology/wesad-loso/runs/5o0fpjwb' target=\"_blank\">https://wandb.ai/rishitsaxena55-indian-institute-of-technology/wesad-loso/runs/5o0fpjwb</a><br> View project at: <a href='https://wandb.ai/rishitsaxena55-indian-institute-of-technology/wesad-loso' target=\"_blank\">https://wandb.ai/rishitsaxena55-indian-institute-of-technology/wesad-loso</a><br>Synced 5 W&B file(s), 0 media file(s), 0 artifact file(s) and 0 other file(s)"
            ]
          },
          "metadata": {}
        },
        {
          "output_type": "display_data",
          "data": {
            "text/plain": [
              "<IPython.core.display.HTML object>"
            ],
            "text/html": [
              "Find logs at: <code>./wandb/run-20250714_073139-5o0fpjwb/logs</code>"
            ]
          },
          "metadata": {}
        },
        {
          "output_type": "stream",
          "name": "stdout",
          "text": [
            "✅ Subject 13 — Acc: 1.0000, F1: 1.0000\n",
            "\n",
            "🔁 Testing on subject 2 (LOSO)\n"
          ]
        },
        {
          "output_type": "display_data",
          "data": {
            "text/plain": [
              "<IPython.core.display.HTML object>"
            ],
            "text/html": [
              "Tracking run with wandb version 0.21.0"
            ]
          },
          "metadata": {}
        },
        {
          "output_type": "display_data",
          "data": {
            "text/plain": [
              "<IPython.core.display.HTML object>"
            ],
            "text/html": [
              "Run data is saved locally in <code>/content/wandb/run-20250714_073220-oei6sive</code>"
            ]
          },
          "metadata": {}
        },
        {
          "output_type": "display_data",
          "data": {
            "text/plain": [
              "<IPython.core.display.HTML object>"
            ],
            "text/html": [
              "Syncing run <strong><a href='https://wandb.ai/rishitsaxena55-indian-institute-of-technology/wesad-loso/runs/oei6sive' target=\"_blank\">Subject_2</a></strong> to <a href='https://wandb.ai/rishitsaxena55-indian-institute-of-technology/wesad-loso' target=\"_blank\">Weights & Biases</a> (<a href='https://wandb.me/developer-guide' target=\"_blank\">docs</a>)<br>"
            ]
          },
          "metadata": {}
        },
        {
          "output_type": "display_data",
          "data": {
            "text/plain": [
              "<IPython.core.display.HTML object>"
            ],
            "text/html": [
              " View project at <a href='https://wandb.ai/rishitsaxena55-indian-institute-of-technology/wesad-loso' target=\"_blank\">https://wandb.ai/rishitsaxena55-indian-institute-of-technology/wesad-loso</a>"
            ]
          },
          "metadata": {}
        },
        {
          "output_type": "display_data",
          "data": {
            "text/plain": [
              "<IPython.core.display.HTML object>"
            ],
            "text/html": [
              " View run at <a href='https://wandb.ai/rishitsaxena55-indian-institute-of-technology/wesad-loso/runs/oei6sive' target=\"_blank\">https://wandb.ai/rishitsaxena55-indian-institute-of-technology/wesad-loso/runs/oei6sive</a>"
            ]
          },
          "metadata": {}
        },
        {
          "output_type": "stream",
          "name": "stdout",
          "text": [
            "Epoch 1/10\n",
            "Epoch 2/10\n",
            "Epoch 3/10\n",
            "Epoch 4/10\n",
            "Epoch 5/10\n",
            "Epoch 6/10\n",
            "Epoch 7/10\n",
            "Epoch 8/10\n",
            "Epoch 9/10\n",
            "Epoch 10/10\n"
          ]
        },
        {
          "output_type": "display_data",
          "data": {
            "text/plain": [
              "<IPython.core.display.HTML object>"
            ],
            "text/html": []
          },
          "metadata": {}
        },
        {
          "output_type": "display_data",
          "data": {
            "text/plain": [
              "<IPython.core.display.HTML object>"
            ],
            "text/html": [
              "<br>    <style><br>        .wandb-row {<br>            display: flex;<br>            flex-direction: row;<br>            flex-wrap: wrap;<br>            justify-content: flex-start;<br>            width: 100%;<br>        }<br>        .wandb-col {<br>            display: flex;<br>            flex-direction: column;<br>            flex-basis: 100%;<br>            flex: 1;<br>            padding: 10px;<br>        }<br>    </style><br><div class=\"wandb-row\"><div class=\"wandb-col\"><h3>Run history:</h3><br/><table class=\"wandb\"><tr><td>epoch</td><td>▁▂▃▃▄▅▆▆▇█</td></tr><tr><td>lr</td><td>▁▁▁▁▁▁▁▁▁▁</td></tr><tr><td>train_loss</td><td>█▂▁▁▁▁▁▁▁▁</td></tr><tr><td>val_acc</td><td>▁▁▁▁▁▁▁▁▁▁</td></tr><tr><td>val_f1</td><td>▁▁▁▁▁▁▁▁▁▁</td></tr><tr><td>val_loss</td><td>▁▁▁▁▁▁▁▁▁▁</td></tr></table><br/></div><div class=\"wandb-col\"><h3>Run summary:</h3><br/><table class=\"wandb\"><tr><td>epoch</td><td>10</td></tr><tr><td>lr</td><td>0.001</td></tr><tr><td>train_loss</td><td>0.00134</td></tr><tr><td>val_acc</td><td>1</td></tr><tr><td>val_f1</td><td>1</td></tr><tr><td>val_loss</td><td>0</td></tr></table><br/></div></div>"
            ]
          },
          "metadata": {}
        },
        {
          "output_type": "display_data",
          "data": {
            "text/plain": [
              "<IPython.core.display.HTML object>"
            ],
            "text/html": [
              " View run <strong style=\"color:#cdcd00\">Subject_2</strong> at: <a href='https://wandb.ai/rishitsaxena55-indian-institute-of-technology/wesad-loso/runs/oei6sive' target=\"_blank\">https://wandb.ai/rishitsaxena55-indian-institute-of-technology/wesad-loso/runs/oei6sive</a><br> View project at: <a href='https://wandb.ai/rishitsaxena55-indian-institute-of-technology/wesad-loso' target=\"_blank\">https://wandb.ai/rishitsaxena55-indian-institute-of-technology/wesad-loso</a><br>Synced 5 W&B file(s), 0 media file(s), 0 artifact file(s) and 0 other file(s)"
            ]
          },
          "metadata": {}
        },
        {
          "output_type": "display_data",
          "data": {
            "text/plain": [
              "<IPython.core.display.HTML object>"
            ],
            "text/html": [
              "Find logs at: <code>./wandb/run-20250714_073220-oei6sive/logs</code>"
            ]
          },
          "metadata": {}
        },
        {
          "output_type": "stream",
          "name": "stdout",
          "text": [
            "✅ Subject 2 — Acc: 1.0000, F1: 1.0000\n",
            "\n",
            "🔁 Testing on subject 4 (LOSO)\n"
          ]
        },
        {
          "output_type": "display_data",
          "data": {
            "text/plain": [
              "<IPython.core.display.HTML object>"
            ],
            "text/html": [
              "Tracking run with wandb version 0.21.0"
            ]
          },
          "metadata": {}
        },
        {
          "output_type": "display_data",
          "data": {
            "text/plain": [
              "<IPython.core.display.HTML object>"
            ],
            "text/html": [
              "Run data is saved locally in <code>/content/wandb/run-20250714_073300-vbtnzsak</code>"
            ]
          },
          "metadata": {}
        },
        {
          "output_type": "display_data",
          "data": {
            "text/plain": [
              "<IPython.core.display.HTML object>"
            ],
            "text/html": [
              "Syncing run <strong><a href='https://wandb.ai/rishitsaxena55-indian-institute-of-technology/wesad-loso/runs/vbtnzsak' target=\"_blank\">Subject_4</a></strong> to <a href='https://wandb.ai/rishitsaxena55-indian-institute-of-technology/wesad-loso' target=\"_blank\">Weights & Biases</a> (<a href='https://wandb.me/developer-guide' target=\"_blank\">docs</a>)<br>"
            ]
          },
          "metadata": {}
        },
        {
          "output_type": "display_data",
          "data": {
            "text/plain": [
              "<IPython.core.display.HTML object>"
            ],
            "text/html": [
              " View project at <a href='https://wandb.ai/rishitsaxena55-indian-institute-of-technology/wesad-loso' target=\"_blank\">https://wandb.ai/rishitsaxena55-indian-institute-of-technology/wesad-loso</a>"
            ]
          },
          "metadata": {}
        },
        {
          "output_type": "display_data",
          "data": {
            "text/plain": [
              "<IPython.core.display.HTML object>"
            ],
            "text/html": [
              " View run at <a href='https://wandb.ai/rishitsaxena55-indian-institute-of-technology/wesad-loso/runs/vbtnzsak' target=\"_blank\">https://wandb.ai/rishitsaxena55-indian-institute-of-technology/wesad-loso/runs/vbtnzsak</a>"
            ]
          },
          "metadata": {}
        },
        {
          "output_type": "stream",
          "name": "stdout",
          "text": [
            "Epoch 1/10\n",
            "Epoch 2/10\n",
            "Epoch 3/10\n",
            "Epoch 4/10\n",
            "Epoch 5/10\n",
            "Epoch 6/10\n",
            "Epoch 7/10\n",
            "Epoch 8/10\n",
            "Epoch 9/10\n",
            "Epoch 10/10\n"
          ]
        },
        {
          "output_type": "display_data",
          "data": {
            "text/plain": [
              "<IPython.core.display.HTML object>"
            ],
            "text/html": []
          },
          "metadata": {}
        },
        {
          "output_type": "display_data",
          "data": {
            "text/plain": [
              "<IPython.core.display.HTML object>"
            ],
            "text/html": [
              "<br>    <style><br>        .wandb-row {<br>            display: flex;<br>            flex-direction: row;<br>            flex-wrap: wrap;<br>            justify-content: flex-start;<br>            width: 100%;<br>        }<br>        .wandb-col {<br>            display: flex;<br>            flex-direction: column;<br>            flex-basis: 100%;<br>            flex: 1;<br>            padding: 10px;<br>        }<br>    </style><br><div class=\"wandb-row\"><div class=\"wandb-col\"><h3>Run history:</h3><br/><table class=\"wandb\"><tr><td>epoch</td><td>▁▂▃▃▄▅▆▆▇█</td></tr><tr><td>lr</td><td>▁▁▁▁▁▁▁▁▁▁</td></tr><tr><td>train_loss</td><td>█▂▁▁▁▁▁▁▁▁</td></tr><tr><td>val_acc</td><td>▁▁▁▁▁▁▁▁▁▁</td></tr><tr><td>val_f1</td><td>▁▁▁▁▁▁▁▁▁▁</td></tr><tr><td>val_loss</td><td>▁▁▁▁▁▁▁▁▁▁</td></tr></table><br/></div><div class=\"wandb-col\"><h3>Run summary:</h3><br/><table class=\"wandb\"><tr><td>epoch</td><td>10</td></tr><tr><td>lr</td><td>0.001</td></tr><tr><td>train_loss</td><td>0.00042</td></tr><tr><td>val_acc</td><td>1</td></tr><tr><td>val_f1</td><td>1</td></tr><tr><td>val_loss</td><td>0</td></tr></table><br/></div></div>"
            ]
          },
          "metadata": {}
        },
        {
          "output_type": "display_data",
          "data": {
            "text/plain": [
              "<IPython.core.display.HTML object>"
            ],
            "text/html": [
              " View run <strong style=\"color:#cdcd00\">Subject_4</strong> at: <a href='https://wandb.ai/rishitsaxena55-indian-institute-of-technology/wesad-loso/runs/vbtnzsak' target=\"_blank\">https://wandb.ai/rishitsaxena55-indian-institute-of-technology/wesad-loso/runs/vbtnzsak</a><br> View project at: <a href='https://wandb.ai/rishitsaxena55-indian-institute-of-technology/wesad-loso' target=\"_blank\">https://wandb.ai/rishitsaxena55-indian-institute-of-technology/wesad-loso</a><br>Synced 5 W&B file(s), 0 media file(s), 0 artifact file(s) and 0 other file(s)"
            ]
          },
          "metadata": {}
        },
        {
          "output_type": "display_data",
          "data": {
            "text/plain": [
              "<IPython.core.display.HTML object>"
            ],
            "text/html": [
              "Find logs at: <code>./wandb/run-20250714_073300-vbtnzsak/logs</code>"
            ]
          },
          "metadata": {}
        },
        {
          "output_type": "stream",
          "name": "stdout",
          "text": [
            "✅ Subject 4 — Acc: 1.0000, F1: 1.0000\n",
            "\n",
            "🔁 Testing on subject 15 (LOSO)\n"
          ]
        },
        {
          "output_type": "display_data",
          "data": {
            "text/plain": [
              "<IPython.core.display.HTML object>"
            ],
            "text/html": [
              "Tracking run with wandb version 0.21.0"
            ]
          },
          "metadata": {}
        },
        {
          "output_type": "display_data",
          "data": {
            "text/plain": [
              "<IPython.core.display.HTML object>"
            ],
            "text/html": [
              "Run data is saved locally in <code>/content/wandb/run-20250714_073340-d643w07k</code>"
            ]
          },
          "metadata": {}
        },
        {
          "output_type": "display_data",
          "data": {
            "text/plain": [
              "<IPython.core.display.HTML object>"
            ],
            "text/html": [
              "Syncing run <strong><a href='https://wandb.ai/rishitsaxena55-indian-institute-of-technology/wesad-loso/runs/d643w07k' target=\"_blank\">Subject_15</a></strong> to <a href='https://wandb.ai/rishitsaxena55-indian-institute-of-technology/wesad-loso' target=\"_blank\">Weights & Biases</a> (<a href='https://wandb.me/developer-guide' target=\"_blank\">docs</a>)<br>"
            ]
          },
          "metadata": {}
        },
        {
          "output_type": "display_data",
          "data": {
            "text/plain": [
              "<IPython.core.display.HTML object>"
            ],
            "text/html": [
              " View project at <a href='https://wandb.ai/rishitsaxena55-indian-institute-of-technology/wesad-loso' target=\"_blank\">https://wandb.ai/rishitsaxena55-indian-institute-of-technology/wesad-loso</a>"
            ]
          },
          "metadata": {}
        },
        {
          "output_type": "display_data",
          "data": {
            "text/plain": [
              "<IPython.core.display.HTML object>"
            ],
            "text/html": [
              " View run at <a href='https://wandb.ai/rishitsaxena55-indian-institute-of-technology/wesad-loso/runs/d643w07k' target=\"_blank\">https://wandb.ai/rishitsaxena55-indian-institute-of-technology/wesad-loso/runs/d643w07k</a>"
            ]
          },
          "metadata": {}
        },
        {
          "output_type": "stream",
          "name": "stdout",
          "text": [
            "Epoch 1/10\n",
            "Epoch 2/10\n",
            "Epoch 3/10\n",
            "Epoch 4/10\n",
            "Epoch 5/10\n",
            "Epoch 6/10\n",
            "Epoch 7/10\n",
            "Epoch 8/10\n",
            "Epoch 9/10\n",
            "Epoch 10/10\n"
          ]
        },
        {
          "output_type": "display_data",
          "data": {
            "text/plain": [
              "<IPython.core.display.HTML object>"
            ],
            "text/html": []
          },
          "metadata": {}
        },
        {
          "output_type": "display_data",
          "data": {
            "text/plain": [
              "<IPython.core.display.HTML object>"
            ],
            "text/html": [
              "<br>    <style><br>        .wandb-row {<br>            display: flex;<br>            flex-direction: row;<br>            flex-wrap: wrap;<br>            justify-content: flex-start;<br>            width: 100%;<br>        }<br>        .wandb-col {<br>            display: flex;<br>            flex-direction: column;<br>            flex-basis: 100%;<br>            flex: 1;<br>            padding: 10px;<br>        }<br>    </style><br><div class=\"wandb-row\"><div class=\"wandb-col\"><h3>Run history:</h3><br/><table class=\"wandb\"><tr><td>epoch</td><td>▁▂▃▃▄▅▆▆▇█</td></tr><tr><td>lr</td><td>▁▁▁▁▁▁▁▁▁▁</td></tr><tr><td>train_loss</td><td>█▂▁▁▁▁▁▁▁▁</td></tr><tr><td>val_acc</td><td>▁▁▁▁▁▁▁▁▁▁</td></tr><tr><td>val_f1</td><td>▁▁▁▁▁▁▁▁▁▁</td></tr><tr><td>val_loss</td><td>▁▁▁▁▁▁▁▁▁▁</td></tr></table><br/></div><div class=\"wandb-col\"><h3>Run summary:</h3><br/><table class=\"wandb\"><tr><td>epoch</td><td>10</td></tr><tr><td>lr</td><td>0.001</td></tr><tr><td>train_loss</td><td>0.00036</td></tr><tr><td>val_acc</td><td>1</td></tr><tr><td>val_f1</td><td>1</td></tr><tr><td>val_loss</td><td>0</td></tr></table><br/></div></div>"
            ]
          },
          "metadata": {}
        },
        {
          "output_type": "display_data",
          "data": {
            "text/plain": [
              "<IPython.core.display.HTML object>"
            ],
            "text/html": [
              " View run <strong style=\"color:#cdcd00\">Subject_15</strong> at: <a href='https://wandb.ai/rishitsaxena55-indian-institute-of-technology/wesad-loso/runs/d643w07k' target=\"_blank\">https://wandb.ai/rishitsaxena55-indian-institute-of-technology/wesad-loso/runs/d643w07k</a><br> View project at: <a href='https://wandb.ai/rishitsaxena55-indian-institute-of-technology/wesad-loso' target=\"_blank\">https://wandb.ai/rishitsaxena55-indian-institute-of-technology/wesad-loso</a><br>Synced 5 W&B file(s), 0 media file(s), 0 artifact file(s) and 0 other file(s)"
            ]
          },
          "metadata": {}
        },
        {
          "output_type": "display_data",
          "data": {
            "text/plain": [
              "<IPython.core.display.HTML object>"
            ],
            "text/html": [
              "Find logs at: <code>./wandb/run-20250714_073340-d643w07k/logs</code>"
            ]
          },
          "metadata": {}
        },
        {
          "output_type": "stream",
          "name": "stdout",
          "text": [
            "✅ Subject 15 — Acc: 1.0000, F1: 1.0000\n",
            "\n",
            "🔁 Testing on subject 7 (LOSO)\n"
          ]
        },
        {
          "output_type": "display_data",
          "data": {
            "text/plain": [
              "<IPython.core.display.HTML object>"
            ],
            "text/html": [
              "Tracking run with wandb version 0.21.0"
            ]
          },
          "metadata": {}
        },
        {
          "output_type": "display_data",
          "data": {
            "text/plain": [
              "<IPython.core.display.HTML object>"
            ],
            "text/html": [
              "Run data is saved locally in <code>/content/wandb/run-20250714_073421-f7fawy9s</code>"
            ]
          },
          "metadata": {}
        },
        {
          "output_type": "display_data",
          "data": {
            "text/plain": [
              "<IPython.core.display.HTML object>"
            ],
            "text/html": [
              "Syncing run <strong><a href='https://wandb.ai/rishitsaxena55-indian-institute-of-technology/wesad-loso/runs/f7fawy9s' target=\"_blank\">Subject_7</a></strong> to <a href='https://wandb.ai/rishitsaxena55-indian-institute-of-technology/wesad-loso' target=\"_blank\">Weights & Biases</a> (<a href='https://wandb.me/developer-guide' target=\"_blank\">docs</a>)<br>"
            ]
          },
          "metadata": {}
        },
        {
          "output_type": "display_data",
          "data": {
            "text/plain": [
              "<IPython.core.display.HTML object>"
            ],
            "text/html": [
              " View project at <a href='https://wandb.ai/rishitsaxena55-indian-institute-of-technology/wesad-loso' target=\"_blank\">https://wandb.ai/rishitsaxena55-indian-institute-of-technology/wesad-loso</a>"
            ]
          },
          "metadata": {}
        },
        {
          "output_type": "display_data",
          "data": {
            "text/plain": [
              "<IPython.core.display.HTML object>"
            ],
            "text/html": [
              " View run at <a href='https://wandb.ai/rishitsaxena55-indian-institute-of-technology/wesad-loso/runs/f7fawy9s' target=\"_blank\">https://wandb.ai/rishitsaxena55-indian-institute-of-technology/wesad-loso/runs/f7fawy9s</a>"
            ]
          },
          "metadata": {}
        },
        {
          "output_type": "stream",
          "name": "stdout",
          "text": [
            "Epoch 1/10\n",
            "Epoch 2/10\n",
            "Epoch 3/10\n",
            "Epoch 4/10\n",
            "Epoch 5/10\n",
            "Epoch 6/10\n",
            "Epoch 7/10\n",
            "Epoch 8/10\n",
            "Epoch 9/10\n",
            "Epoch 10/10\n"
          ]
        },
        {
          "output_type": "display_data",
          "data": {
            "text/plain": [
              "<IPython.core.display.HTML object>"
            ],
            "text/html": []
          },
          "metadata": {}
        },
        {
          "output_type": "display_data",
          "data": {
            "text/plain": [
              "<IPython.core.display.HTML object>"
            ],
            "text/html": [
              "<br>    <style><br>        .wandb-row {<br>            display: flex;<br>            flex-direction: row;<br>            flex-wrap: wrap;<br>            justify-content: flex-start;<br>            width: 100%;<br>        }<br>        .wandb-col {<br>            display: flex;<br>            flex-direction: column;<br>            flex-basis: 100%;<br>            flex: 1;<br>            padding: 10px;<br>        }<br>    </style><br><div class=\"wandb-row\"><div class=\"wandb-col\"><h3>Run history:</h3><br/><table class=\"wandb\"><tr><td>epoch</td><td>▁▂▃▃▄▅▆▆▇█</td></tr><tr><td>lr</td><td>▁▁▁▁▁▁▁▁▁▁</td></tr><tr><td>train_loss</td><td>█▃▁▁▁▁▁▁▁▁</td></tr><tr><td>val_acc</td><td>▁▁▁▁▁▁▁▁▁▁</td></tr><tr><td>val_f1</td><td>▁▁▁▁▁▁▁▁▁▁</td></tr><tr><td>val_loss</td><td>▁▁▁▁▁▁▁▁▁▁</td></tr></table><br/></div><div class=\"wandb-col\"><h3>Run summary:</h3><br/><table class=\"wandb\"><tr><td>epoch</td><td>10</td></tr><tr><td>lr</td><td>0.001</td></tr><tr><td>train_loss</td><td>0.00028</td></tr><tr><td>val_acc</td><td>1</td></tr><tr><td>val_f1</td><td>1</td></tr><tr><td>val_loss</td><td>0</td></tr></table><br/></div></div>"
            ]
          },
          "metadata": {}
        },
        {
          "output_type": "display_data",
          "data": {
            "text/plain": [
              "<IPython.core.display.HTML object>"
            ],
            "text/html": [
              " View run <strong style=\"color:#cdcd00\">Subject_7</strong> at: <a href='https://wandb.ai/rishitsaxena55-indian-institute-of-technology/wesad-loso/runs/f7fawy9s' target=\"_blank\">https://wandb.ai/rishitsaxena55-indian-institute-of-technology/wesad-loso/runs/f7fawy9s</a><br> View project at: <a href='https://wandb.ai/rishitsaxena55-indian-institute-of-technology/wesad-loso' target=\"_blank\">https://wandb.ai/rishitsaxena55-indian-institute-of-technology/wesad-loso</a><br>Synced 5 W&B file(s), 0 media file(s), 0 artifact file(s) and 0 other file(s)"
            ]
          },
          "metadata": {}
        },
        {
          "output_type": "display_data",
          "data": {
            "text/plain": [
              "<IPython.core.display.HTML object>"
            ],
            "text/html": [
              "Find logs at: <code>./wandb/run-20250714_073421-f7fawy9s/logs</code>"
            ]
          },
          "metadata": {}
        },
        {
          "output_type": "stream",
          "name": "stdout",
          "text": [
            "✅ Subject 7 — Acc: 1.0000, F1: 1.0000\n"
          ]
        }
      ]
    },
    {
      "cell_type": "code",
      "source": [],
      "metadata": {
        "id": "-2GTQPdiJe3i"
      },
      "execution_count": null,
      "outputs": []
    }
  ]
}